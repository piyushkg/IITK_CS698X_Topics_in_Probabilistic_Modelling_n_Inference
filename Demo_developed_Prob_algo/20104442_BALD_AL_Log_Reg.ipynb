{
 "cells": [
  {
   "cell_type": "code",
   "execution_count": 1,
   "metadata": {},
   "outputs": [],
   "source": [
    "import pystan \n",
    "import numpy as np\n",
    "import matplotlib.pyplot as plt\n",
    "import arviz as av\n",
    "import pickle\n",
    "from scipy.stats import entropy\n",
    "from sklearn.datasets import make_classification\n",
    "from sklearn.model_selection import train_test_split\n",
    "from sklearn.linear_model import LogisticRegression\n",
    "from sklearn.preprocessing import OneHotEncoder\n",
    "from sklearn.metrics import confusion_matrix\n",
    "from sklearn.metrics import accuracy_score"
   ]
  },
  {
   "cell_type": "markdown",
   "metadata": {},
   "source": [
    "# Bayesian Active Learning by Disagreement (BALD)\n",
    "This approach is based on \"how much the model will improve if a particular labelled data is added to the training set\". Here the Acquisition function is defined as reduction in Entropy of the Model's Posterior Distribution. This method is also called Bayesian Active Learning by Disagreement (BALD). This method again greedily selects data having maximum \"reduction in Entropy of the Model's Posterior\" value in every iteration.\n",
    "\n",
    "\\begin{equation}\n",
    "    \\begin{split}\n",
    " A(x_*) &=  \\mathbb{H}[p(\\theta | \\mathcal{D}_O)] - \\mathbb{E}_{p(y_* | x_*, \\mathcal{D}_O )} \\mathbb{H}[ p(y_* | \\mathcal{D}_O \\cup \\{x_* , y_* \\} )] \\\\\n",
    "        &= \\mathbb{I} [\\theta ; y_* | x_*, \\mathcal{D}_O]  \\\\\n",
    "        &= \\mathbb{H}[p(y_* | x_*, \\mathcal{D}_O )] - \\mathbb{E}_{p(\\theta | \\mathcal{D}_O)} \\mathbb{H}[ p(y_* | x_*, \\theta)] \\label{eq:BALD}\n",
    "    \\end{split}\n",
    "\\end{equation}\n",
    "\n",
    "where $x_*$ is the new data point, $y_*$ is the label for the new data point, $p(y_* | x_*, \\mathcal{D}_O)$ is the Posterior Predictive Distribution, $\\mathbb{H}[p(y_* | x_*, \\mathcal{D}_O)]$ is the Entropy of Posterior Predictive Distribution, $\\mathbb{I} [\\theta ; y_* | x_*, \\mathcal{D}_O]$ is the mutual information of two random variable $\\theta$ and $y_*$ and $p(y_* | x_*, \\theta)$ is the plug in predictive distribution. The first equality in the Eqn. 2 denotes the reduction in Entropy of posterior distribution once the $x_*$ is added to the training data. The second equality represents Mutual Information whose property can be utilized to switch $\\theta$ and $y_*$. The first term in the third equality of Eqn. 2 is Entropy of Posterior Predictive Distribution (same as in Approach) whereas the second term (with negative sign) is Expected conditional Entropy. So essentially the input which produces high uncertainty is penalized and hence the name (BALD)\n"
   ]
  },
  {
   "cell_type": "markdown",
   "metadata": {},
   "source": [
    "# Implementation: \n",
    "Models were trained using Logistic Regression. The Acquisition function in the above eqn. requires computation of posterior distribution of model parameters (for a Multi-class Logistic Regression). Since the Logistic Regression model has non conjugate Likelihood and Prior w.r.t. parameters, posterior distribution of model parameters can be computed either approximately (Laplace Approximation) or via Monte-Carlo Sampling methods. In this work, Probabilistic programming language \"PyStan\" was utilized to derive samples (through Monte Carlo Sampling) of posterior distribution of samples. These samples were utilized to compute the expectation in second term in R.H.S. of equation above. Computation of Posterior Predictive distribution (the first term in R.H.S. of the quation is similar to that MaxEnt"
   ]
  },
  {
   "cell_type": "markdown",
   "metadata": {},
   "source": [
    "# Custom Function "
   ]
  },
  {
   "cell_type": "code",
   "execution_count": 2,
   "metadata": {},
   "outputs": [],
   "source": [
    "def PredictHardClass(model, D_pool):\n",
    "    '''\n",
    "    Using the model \"model\", predict hard classification for each data\n",
    "    in the D_pool (each row of D_pool)\n",
    "    Inputs:\n",
    "        model: sklearn.linear_model e.g. sklearn.linear_model._logistic.LogisticRegression\n",
    "        D_pool: numpy.ndarray where each row is a data in A.L. pool set\n",
    "    Outputs:\n",
    "        T_hat: numpy.ndarray where each row is hard prediction of D_pool\n",
    "    '''\n",
    "    T_hat = model.predict(D_pool)\n",
    "    return T_hat\n",
    "\n",
    "def PredictSoftClass(model, D_pool):\n",
    "    '''\n",
    "    Using the model \"model\", predict hard classification for each data\n",
    "    in the D_pool (each row of D_pool)\n",
    "    Inputs:\n",
    "        model: sklearn.linear_model e.g. sklearn.linear_model._logistic.LogisticRegression\n",
    "        D_pool: numpy.ndarray where each row is a data in A.L. pool set\n",
    "    Outputs:\n",
    "        T_proba: numpy.ndarray where each row is soft prediction of D_pool\n",
    "    '''\n",
    "    T_proba = model.predict_proba(D_pool)\n",
    "    return T_proba\n",
    "\n",
    "def getEntropy(T_proba):\n",
    "    '''\n",
    "    Using the model \"model\", predict hard classification for each data\n",
    "    in the D_pool (each row of D_pool)\n",
    "    Inputs:\n",
    "        T_proba: numpy.ndarray where each row is soft prediction of D_pool\n",
    "    Outputs:\n",
    "        Ent: numpy.ndarray where each row is entropy of D_pool data\n",
    "    '''\n",
    "    N = T_proba.shape[0]\n",
    "    Ent = np.zeros(N)\n",
    "    for i in range(N):\n",
    "        Ent[i] = entropy(T_proba[i], base = 2)\n",
    "    return Ent\n",
    "\n",
    "def Create_Fit_Save_Extract_StanModel(no_classes, D_Train, T_Train, filename):\n",
    "    '''\n",
    "    Using the model \"model\", predict hard classification for each data\n",
    "    in the D_pool (each row of D_pool)\n",
    "    Note: This function requires a Stan model to be coded and save separately\n",
    "        Here, filename represents that file hence 'my_model.stan' should be available in the same folder\n",
    "    Inputs:\n",
    "        no_classes: int - no. of classes\n",
    "        D_Train: ndarray - Training data - rows = no. of data point \n",
    "        T_Train: numpy.ndarray where each row is soft prediction of D_pool\n",
    "        filename: name of the file in which stan model is saved\n",
    "    Outputs:\n",
    "        params: Dictionary - \"beta\" is key for all the samples of beta distribution\n",
    "        fit: StanFit4Model - Stats of parameters of logistic reg model\n",
    "        sm: pystan.model.StanModel - type of stan model defined \n",
    "    '''\n",
    "    onehot_encoder = OneHotEncoder(sparse=False)\n",
    "    T_Train = T_Train.reshape(len(T_Train), 1)\n",
    "    T_Train = onehot_encoder.fit_transform(T_Train)\n",
    "    T_Train = T_Train.astype(np.int)\n",
    "    log_reg_data = {\n",
    "             'N': D_Train.shape[0],\n",
    "             'K': no_classes,\n",
    "             'M': D_Train.shape[1],\n",
    "             'X': D_Train,\n",
    "             'Y': T_Train\n",
    "            }\n",
    "    \n",
    "    sm = pystan.StanModel(file=filename)\n",
    "    fit = sm.sampling(data=log_reg_data, iter=1000, chains=2)\n",
    "    params = fit.extract()\n",
    "    with open('model_fit.pkl','wb') as f:\n",
    "        pickle.dump({'model':sm, 'fit':fit},f)\n",
    "        \n",
    "    with open('model_fit.pkl','rb') as f:\n",
    "        data_dict = pickle.load(f)\n",
    "        \n",
    "    fit = data_dict['fit']\n",
    "    sm = data_dict['model']\n",
    "    return params, fit, sm\n",
    "\n",
    "def Extract_4m_savedStanModel(filename):\n",
    "    '''\n",
    "    This function is used only when fitted stan model is saved as pickle\n",
    "    Inputs:\n",
    "        T_Train: numpy.ndarray (one hot vector) where each row is soft prediction of D_pool\n",
    "    Outputs:\n",
    "        params: Dictionary - \"beta\" is key for all the samples of beta distribution\n",
    "        fit: StanFit4Model - Stats of parameters of logistic reg model\n",
    "        sm: pystan.model.StanModel - type of stan model defined \n",
    "    '''\n",
    "    with open(filename,'rb') as f:\n",
    "        data_dict = pickle.load(f)\n",
    "        \n",
    "    fit = data_dict['fit']\n",
    "    sm = data_dict['model']\n",
    "    params = fit.extract()\n",
    "    return params, fit, sm\n",
    "\n",
    "def Predict_proba_4m_thetasamples(beta_samples, D_pool):\n",
    "    '''\n",
    "    Gives prredicted probability of data in pool set w.r.t. each beta samples\n",
    "    Inputs:\n",
    "        beta_samples: numpy.ndarray (No_samples x No_features x No_class) parameter of Logistic reg. model\n",
    "        D_pool: numpy.ndarray where each row is a data in A.L. pool set\n",
    "    Outputs:\n",
    "        pred_prob: numpy.ndarray (no_beta_samples x N x no_classes) soft prediction of D_pool for each beta sample\n",
    "    '''\n",
    "    no_beta_samples = beta_samples.shape[0]\n",
    "    no_features = beta_samples.shape[1]\n",
    "    no_classes = beta_samples.shape[2]\n",
    "    N = D_pool.shape[0]\n",
    "    \n",
    "    pred_prob = np.zeros((no_beta_samples, N, no_classes))\n",
    "    for i in range(no_beta_samples):\n",
    "        pred_prob[i] = D_pool @ beta_samples[i]\n",
    "        for j in range(N):\n",
    "            for k in range(no_classes):\n",
    "                pred_prob[i,j,k] = np.exp(pred_prob[i,j,k])\n",
    "            norm = np.sum(pred_prob[i,j,:], dtype = np.float32)\n",
    "            pred_prob[i,j,:] = pred_prob[i,j,:]/norm\n",
    "    return pred_prob\n",
    "\n",
    "def Compute_Expec_Entropy(beta_samples, D_pool):\n",
    "    '''\n",
    "    Compute expected entropy (2nd Term in equation of BALD)\n",
    "    Inputs:\n",
    "        beta_samples: numpy.ndarray (No_samples x No_features x No_class) parameter of Logistic reg. model\n",
    "        D_pool: numpy.ndarray where each row is a data in A.L. pool set\n",
    "    Outputs:\n",
    "        Ent: numpy.ndarray where each row is entropy of D_pool data\n",
    "        Expec_Ent: numpy.ndarray where each row is Expected entropy (Exp wrt Posterior) of D_pool data\n",
    "    '''\n",
    "    pred_prob = Predict_proba_4m_thetasamples(beta_samples, D_pool)\n",
    "    no_samples = pred_prob.shape[0]\n",
    "    N = pred_prob.shape[1]\n",
    "    \n",
    "    Ent = np.zeros((no_samples,N))\n",
    "    Expec_Ent = np.zeros(N)\n",
    "    for i in range(no_samples):\n",
    "        Ent[i,:] = getEntropy(pred_prob[i])\n",
    "    Expec_Ent = np.mean(Ent, axis = 0)\n",
    "    return Ent, Expec_Ent\n",
    "\n",
    "def BALD_Acq_Fn(beta_samples, D_pool, model):\n",
    "    '''\n",
    "    Compute Acquisition function based on BALD Approach\n",
    "    Inputs:\n",
    "        beta_samples: numpy.ndarray (No_samples x No_features x No_class) parameter of Logistic reg. model\n",
    "        D_pool: numpy.ndarray where each row is a data in A.L. pool set\n",
    "        model: sklearn.linear_model e.g. sklearn.linear_model._logistic.LogisticRegression\n",
    "    Outputs:\n",
    "        BALD_AF: 1-d numpy.ndarray value of BALD AF for each data in pool\n",
    "    '''\n",
    "    T_proba = PredictSoftClass(model, D_pool)\n",
    "    Ent1 = getEntropy(T_proba)\n",
    "    Ent_Samp, Ent2 = Compute_Expec_Entropy(beta_samples, D_pool)\n",
    "    BALD_AF = Ent1 - Ent2\n",
    "    return BALD_AF\n",
    "\n",
    "def Find_argmax_AF(n, AF_pool):\n",
    "    '''\n",
    "    Using the entropy corresponding to each data point in D_pool, find 'n'\n",
    "    data points with highest entropy values\n",
    "    Inputs:\n",
    "        n: (int) Number of data points to be selected\n",
    "        AF_pool: numpy.ndarray where each row is entropy of D_pool data\n",
    "    Outputs:\n",
    "        arg_nmax: numpy.ndarray with index of 'n' data points with highest\n",
    "                  entropy values\n",
    "    '''\n",
    "    arg_nmax = np.argpartition(AF_pool,-n)[-n:]\n",
    "    return arg_nmax\n",
    "\n",
    "def PicknDelete_4mPool(arg_nmax, D_pool, T_pool, AF):\n",
    "    '''\n",
    "    Function to pick data points from D_pool-T_pool using given indices,\n",
    "    place them in D_select (used later to add to training set) and delete\n",
    "    the selected data points from D_pool \n",
    "    Inputs:\n",
    "        arg_nmax: numpy.ndarray with index of 'n' data points\n",
    "        D_pool: numpy.ndarray where each row is a data in A.L. pool set\n",
    "        T_pool: numpy.ndarray where each row is a label corresponding to\n",
    "                data in A.L. pool set\n",
    "        AF: numpy.ndarray where each row is entropy of D_pool data\n",
    "    Outputs:\n",
    "        D_select: numpy.ndarray where each row is a data selected from the\n",
    "                  A.L. pool set\n",
    "        T_select: numpy.ndarray where each row is a label corresponding to\n",
    "                  data selected from the A.L. pool set\n",
    "        D_pool_upd: numpy.ndarray where each row is a data in the depleted\n",
    "                    A.L. pool set\n",
    "        T_pool_upd: numpy.ndarray where each row is a label corresponding to\n",
    "                    data in the depleted A.L. pool set\n",
    "    '''\n",
    "    D_select = np.take(D_pool, arg_nmax, axis = 0)\n",
    "    T_select = np.take(T_pool, arg_nmax, axis = 0)\n",
    "    AF_select = np.take(AF, arg_nmax, axis = 0)\n",
    "    \n",
    "    \n",
    "    D_pool_upd = np.delete(D_pool, arg_nmax, axis=0)\n",
    "    T_pool_upd = np.delete(T_pool, arg_nmax, axis=0)\n",
    "    AF_upd = np.delete(AF, arg_nmax, axis=0)\n",
    "    return D_select, T_select, D_pool_upd, T_pool_upd\n",
    "\n",
    "def Add_2Train(D_select, T_select, D_Train, T_Train):\n",
    "    '''\n",
    "    Adding selected data points to Train set D_Train-T_Train\n",
    "    Inputs:\n",
    "        D_select: numpy.ndarray where each row is a data selected from the\n",
    "                  A.L. pool set\n",
    "        T_select: numpy.ndarray where each row is a label corresponding to\n",
    "                  data selected from the A.L. pool set\n",
    "        D_Train: numpy.ndarray where each row is a data in the Train set\n",
    "        T_Train: numpy.ndarray where each row is a label corresponding to\n",
    "                 data in the Train set\n",
    "    Outputs:\n",
    "        D_Train_upd: numpy.ndarray where each row is a data in the updated\n",
    "                     Train set\n",
    "        T_Train_upd: numpy.ndarray where each row is a label corresponding to\n",
    "                     data in the updated Train set\n",
    "    '''\n",
    "    D_Train_upd = np.vstack((D_Train, D_select))\n",
    "    T_Train_upd = np.concatenate([T_Train,T_select])\n",
    "    return D_Train_upd, T_Train_upd\n",
    "\n"
   ]
  },
  {
   "cell_type": "markdown",
   "metadata": {},
   "source": [
    "# Classification Data Generation and Splitting"
   ]
  },
  {
   "cell_type": "code",
   "execution_count": 3,
   "metadata": {},
   "outputs": [],
   "source": [
    "# Data Generation and Train, Test, AL Poolset creation\n",
    "no_classes = 3\n",
    "no_features = 5\n",
    "no_samples = 1500\n",
    "# Generate Data\n",
    "X, y = make_classification(n_samples=no_samples, n_features=no_features, n_informative=3, n_redundant=2, n_classes=no_classes, random_state=1)\n",
    "\n",
    "# Split Generated Data for initial Training and the Left over part\n",
    "D_Train, D_left, T_Train, T_left = train_test_split(X, y, test_size=0.90, random_state=42)\n",
    "\n",
    "# Split Left over Data for Testing and the Active Learning Poolset\n",
    "D_test, D_pool, T_test, T_pool = train_test_split(D_left, T_left, test_size=0.75, random_state=40)\n",
    "\n"
   ]
  },
  {
   "cell_type": "markdown",
   "metadata": {},
   "source": [
    "# Initial Training of the Logistic Regression Model"
   ]
  },
  {
   "cell_type": "code",
   "execution_count": 4,
   "metadata": {},
   "outputs": [
    {
     "data": {
      "text/plain": [
       "LogisticRegression(multi_class='multinomial')"
      ]
     },
     "execution_count": 4,
     "metadata": {},
     "output_type": "execute_result"
    }
   ],
   "source": [
    "# Initial Training of data - Model => Logistic Regression\n",
    "model = LogisticRegression(multi_class='multinomial', solver='lbfgs')\n",
    "model.fit(D_Train, T_Train)\n"
   ]
  },
  {
   "cell_type": "markdown",
   "metadata": {},
   "source": [
    "# Initial Testing of the Logistic Regression Model"
   ]
  },
  {
   "cell_type": "code",
   "execution_count": 5,
   "metadata": {},
   "outputs": [],
   "source": [
    "# Testing the initial LR model on TEST data\n",
    "T_test_mod_proba = np.zeros((len(D_test),no_classes))\n",
    "T_test_mod = np.zeros(len(D_test))\n",
    "for i in range(len(D_test)):\n",
    "    T_test_mod_proba = model.predict_proba(D_test)\n",
    "    T_test_mod= model.predict(D_test)\n",
    "\n",
    "\n",
    "acc = []\n",
    "acc.append(accuracy_score(T_test, T_test_mod))\n",
    "cm = []\n",
    "cm.append(confusion_matrix(T_test, T_test_mod))"
   ]
  },
  {
   "cell_type": "markdown",
   "metadata": {},
   "source": [
    "# Main Program: Overall Active Learning Process implementation"
   ]
  },
  {
   "cell_type": "code",
   "execution_count": 6,
   "metadata": {},
   "outputs": [
    {
     "name": "stderr",
     "output_type": "stream",
     "text": [
      "<ipython-input-2-f19908f94e53>:54: DeprecationWarning: `np.int` is a deprecated alias for the builtin `int`. To silence this warning, use `int` by itself. Doing this will not modify any behavior and is safe. When replacing `np.int`, you may wish to use e.g. `np.int64` or `np.int32` to specify the precision. If you wish to review your current use, check the release note link for additional information.\n",
      "Deprecated in NumPy 1.20; for more details and guidance: https://numpy.org/devdocs/release/1.20.0-notes.html#deprecations\n",
      "  T_Train = T_Train.astype(np.int)\n",
      "INFO:pystan:COMPILING THE C++ CODE FOR MODEL anon_model_16a4048a3c1979a5f7520751e90d6471 NOW.\n"
     ]
    },
    {
     "name": "stdout",
     "output_type": "stream",
     "text": [
      "0\n"
     ]
    },
    {
     "name": "stderr",
     "output_type": "stream",
     "text": [
      "WARNING:pystan:879 of 1000 iterations saturated the maximum tree depth of 10 (87.9 %)\n",
      "WARNING:pystan:Run again with max_treedepth larger than 10 to avoid saturation\n",
      "<ipython-input-2-f19908f94e53>:67: UserWarning: Pickling fit objects is an experimental feature!\n",
      "The relevant StanModel instance must be pickled along with this fit object.\n",
      "When unpickling the StanModel must be unpickled first.\n",
      "  pickle.dump({'model':sm, 'fit':fit},f)\n",
      "<ipython-input-2-f19908f94e53>:54: DeprecationWarning: `np.int` is a deprecated alias for the builtin `int`. To silence this warning, use `int` by itself. Doing this will not modify any behavior and is safe. When replacing `np.int`, you may wish to use e.g. `np.int64` or `np.int32` to specify the precision. If you wish to review your current use, check the release note link for additional information.\n",
      "Deprecated in NumPy 1.20; for more details and guidance: https://numpy.org/devdocs/release/1.20.0-notes.html#deprecations\n",
      "  T_Train = T_Train.astype(np.int)\n",
      "INFO:pystan:COMPILING THE C++ CODE FOR MODEL anon_model_16a4048a3c1979a5f7520751e90d6471 NOW.\n"
     ]
    },
    {
     "name": "stdout",
     "output_type": "stream",
     "text": [
      "(1013,)\n",
      "[218]\n",
      "1\n"
     ]
    },
    {
     "name": "stderr",
     "output_type": "stream",
     "text": [
      "WARNING:pystan:825 of 1000 iterations saturated the maximum tree depth of 10 (82.5 %)\n",
      "WARNING:pystan:Run again with max_treedepth larger than 10 to avoid saturation\n",
      "<ipython-input-2-f19908f94e53>:67: UserWarning: Pickling fit objects is an experimental feature!\n",
      "The relevant StanModel instance must be pickled along with this fit object.\n",
      "When unpickling the StanModel must be unpickled first.\n",
      "  pickle.dump({'model':sm, 'fit':fit},f)\n",
      "<ipython-input-2-f19908f94e53>:54: DeprecationWarning: `np.int` is a deprecated alias for the builtin `int`. To silence this warning, use `int` by itself. Doing this will not modify any behavior and is safe. When replacing `np.int`, you may wish to use e.g. `np.int64` or `np.int32` to specify the precision. If you wish to review your current use, check the release note link for additional information.\n",
      "Deprecated in NumPy 1.20; for more details and guidance: https://numpy.org/devdocs/release/1.20.0-notes.html#deprecations\n",
      "  T_Train = T_Train.astype(np.int)\n",
      "INFO:pystan:COMPILING THE C++ CODE FOR MODEL anon_model_16a4048a3c1979a5f7520751e90d6471 NOW.\n"
     ]
    },
    {
     "name": "stdout",
     "output_type": "stream",
     "text": [
      "(1012,)\n",
      "[444]\n",
      "2\n"
     ]
    },
    {
     "name": "stderr",
     "output_type": "stream",
     "text": [
      "WARNING:pystan:841 of 1000 iterations saturated the maximum tree depth of 10 (84.1 %)\n",
      "WARNING:pystan:Run again with max_treedepth larger than 10 to avoid saturation\n",
      "<ipython-input-2-f19908f94e53>:67: UserWarning: Pickling fit objects is an experimental feature!\n",
      "The relevant StanModel instance must be pickled along with this fit object.\n",
      "When unpickling the StanModel must be unpickled first.\n",
      "  pickle.dump({'model':sm, 'fit':fit},f)\n",
      "<ipython-input-2-f19908f94e53>:54: DeprecationWarning: `np.int` is a deprecated alias for the builtin `int`. To silence this warning, use `int` by itself. Doing this will not modify any behavior and is safe. When replacing `np.int`, you may wish to use e.g. `np.int64` or `np.int32` to specify the precision. If you wish to review your current use, check the release note link for additional information.\n",
      "Deprecated in NumPy 1.20; for more details and guidance: https://numpy.org/devdocs/release/1.20.0-notes.html#deprecations\n",
      "  T_Train = T_Train.astype(np.int)\n",
      "INFO:pystan:COMPILING THE C++ CODE FOR MODEL anon_model_16a4048a3c1979a5f7520751e90d6471 NOW.\n"
     ]
    },
    {
     "name": "stdout",
     "output_type": "stream",
     "text": [
      "(1011,)\n",
      "[462]\n",
      "3\n"
     ]
    },
    {
     "name": "stderr",
     "output_type": "stream",
     "text": [
      "WARNING:pystan:851 of 1000 iterations saturated the maximum tree depth of 10 (85.1 %)\n",
      "WARNING:pystan:Run again with max_treedepth larger than 10 to avoid saturation\n",
      "<ipython-input-2-f19908f94e53>:67: UserWarning: Pickling fit objects is an experimental feature!\n",
      "The relevant StanModel instance must be pickled along with this fit object.\n",
      "When unpickling the StanModel must be unpickled first.\n",
      "  pickle.dump({'model':sm, 'fit':fit},f)\n",
      "<ipython-input-2-f19908f94e53>:54: DeprecationWarning: `np.int` is a deprecated alias for the builtin `int`. To silence this warning, use `int` by itself. Doing this will not modify any behavior and is safe. When replacing `np.int`, you may wish to use e.g. `np.int64` or `np.int32` to specify the precision. If you wish to review your current use, check the release note link for additional information.\n",
      "Deprecated in NumPy 1.20; for more details and guidance: https://numpy.org/devdocs/release/1.20.0-notes.html#deprecations\n",
      "  T_Train = T_Train.astype(np.int)\n",
      "INFO:pystan:COMPILING THE C++ CODE FOR MODEL anon_model_16a4048a3c1979a5f7520751e90d6471 NOW.\n"
     ]
    },
    {
     "name": "stdout",
     "output_type": "stream",
     "text": [
      "(1010,)\n",
      "[103]\n",
      "4\n"
     ]
    },
    {
     "name": "stderr",
     "output_type": "stream",
     "text": [
      "WARNING:pystan:855 of 1000 iterations saturated the maximum tree depth of 10 (85.5 %)\n",
      "WARNING:pystan:Run again with max_treedepth larger than 10 to avoid saturation\n",
      "<ipython-input-2-f19908f94e53>:67: UserWarning: Pickling fit objects is an experimental feature!\n",
      "The relevant StanModel instance must be pickled along with this fit object.\n",
      "When unpickling the StanModel must be unpickled first.\n",
      "  pickle.dump({'model':sm, 'fit':fit},f)\n",
      "<ipython-input-2-f19908f94e53>:54: DeprecationWarning: `np.int` is a deprecated alias for the builtin `int`. To silence this warning, use `int` by itself. Doing this will not modify any behavior and is safe. When replacing `np.int`, you may wish to use e.g. `np.int64` or `np.int32` to specify the precision. If you wish to review your current use, check the release note link for additional information.\n",
      "Deprecated in NumPy 1.20; for more details and guidance: https://numpy.org/devdocs/release/1.20.0-notes.html#deprecations\n",
      "  T_Train = T_Train.astype(np.int)\n",
      "INFO:pystan:COMPILING THE C++ CODE FOR MODEL anon_model_16a4048a3c1979a5f7520751e90d6471 NOW.\n"
     ]
    },
    {
     "name": "stdout",
     "output_type": "stream",
     "text": [
      "(1009,)\n",
      "[73]\n",
      "5\n"
     ]
    },
    {
     "name": "stderr",
     "output_type": "stream",
     "text": [
      "WARNING:pystan:841 of 1000 iterations saturated the maximum tree depth of 10 (84.1 %)\n",
      "WARNING:pystan:Run again with max_treedepth larger than 10 to avoid saturation\n",
      "<ipython-input-2-f19908f94e53>:67: UserWarning: Pickling fit objects is an experimental feature!\n",
      "The relevant StanModel instance must be pickled along with this fit object.\n",
      "When unpickling the StanModel must be unpickled first.\n",
      "  pickle.dump({'model':sm, 'fit':fit},f)\n",
      "<ipython-input-2-f19908f94e53>:54: DeprecationWarning: `np.int` is a deprecated alias for the builtin `int`. To silence this warning, use `int` by itself. Doing this will not modify any behavior and is safe. When replacing `np.int`, you may wish to use e.g. `np.int64` or `np.int32` to specify the precision. If you wish to review your current use, check the release note link for additional information.\n",
      "Deprecated in NumPy 1.20; for more details and guidance: https://numpy.org/devdocs/release/1.20.0-notes.html#deprecations\n",
      "  T_Train = T_Train.astype(np.int)\n",
      "INFO:pystan:COMPILING THE C++ CODE FOR MODEL anon_model_16a4048a3c1979a5f7520751e90d6471 NOW.\n"
     ]
    },
    {
     "name": "stdout",
     "output_type": "stream",
     "text": [
      "(1008,)\n",
      "[391]\n",
      "6\n"
     ]
    },
    {
     "name": "stderr",
     "output_type": "stream",
     "text": [
      "WARNING:pystan:834 of 1000 iterations saturated the maximum tree depth of 10 (83.4 %)\n",
      "WARNING:pystan:Run again with max_treedepth larger than 10 to avoid saturation\n",
      "<ipython-input-2-f19908f94e53>:67: UserWarning: Pickling fit objects is an experimental feature!\n",
      "The relevant StanModel instance must be pickled along with this fit object.\n",
      "When unpickling the StanModel must be unpickled first.\n",
      "  pickle.dump({'model':sm, 'fit':fit},f)\n",
      "<ipython-input-2-f19908f94e53>:54: DeprecationWarning: `np.int` is a deprecated alias for the builtin `int`. To silence this warning, use `int` by itself. Doing this will not modify any behavior and is safe. When replacing `np.int`, you may wish to use e.g. `np.int64` or `np.int32` to specify the precision. If you wish to review your current use, check the release note link for additional information.\n",
      "Deprecated in NumPy 1.20; for more details and guidance: https://numpy.org/devdocs/release/1.20.0-notes.html#deprecations\n",
      "  T_Train = T_Train.astype(np.int)\n",
      "INFO:pystan:COMPILING THE C++ CODE FOR MODEL anon_model_16a4048a3c1979a5f7520751e90d6471 NOW.\n"
     ]
    },
    {
     "name": "stdout",
     "output_type": "stream",
     "text": [
      "(1007,)\n",
      "[792]\n",
      "7\n"
     ]
    },
    {
     "name": "stderr",
     "output_type": "stream",
     "text": [
      "WARNING:pystan:866 of 1000 iterations saturated the maximum tree depth of 10 (86.6 %)\n",
      "WARNING:pystan:Run again with max_treedepth larger than 10 to avoid saturation\n",
      "<ipython-input-2-f19908f94e53>:67: UserWarning: Pickling fit objects is an experimental feature!\n",
      "The relevant StanModel instance must be pickled along with this fit object.\n",
      "When unpickling the StanModel must be unpickled first.\n",
      "  pickle.dump({'model':sm, 'fit':fit},f)\n",
      "<ipython-input-2-f19908f94e53>:54: DeprecationWarning: `np.int` is a deprecated alias for the builtin `int`. To silence this warning, use `int` by itself. Doing this will not modify any behavior and is safe. When replacing `np.int`, you may wish to use e.g. `np.int64` or `np.int32` to specify the precision. If you wish to review your current use, check the release note link for additional information.\n",
      "Deprecated in NumPy 1.20; for more details and guidance: https://numpy.org/devdocs/release/1.20.0-notes.html#deprecations\n",
      "  T_Train = T_Train.astype(np.int)\n",
      "INFO:pystan:COMPILING THE C++ CODE FOR MODEL anon_model_16a4048a3c1979a5f7520751e90d6471 NOW.\n"
     ]
    },
    {
     "name": "stdout",
     "output_type": "stream",
     "text": [
      "(1006,)\n",
      "[306]\n",
      "8\n"
     ]
    },
    {
     "name": "stderr",
     "output_type": "stream",
     "text": [
      "WARNING:pystan:839 of 1000 iterations saturated the maximum tree depth of 10 (83.9 %)\n",
      "WARNING:pystan:Run again with max_treedepth larger than 10 to avoid saturation\n",
      "<ipython-input-2-f19908f94e53>:67: UserWarning: Pickling fit objects is an experimental feature!\n",
      "The relevant StanModel instance must be pickled along with this fit object.\n",
      "When unpickling the StanModel must be unpickled first.\n",
      "  pickle.dump({'model':sm, 'fit':fit},f)\n",
      "<ipython-input-2-f19908f94e53>:54: DeprecationWarning: `np.int` is a deprecated alias for the builtin `int`. To silence this warning, use `int` by itself. Doing this will not modify any behavior and is safe. When replacing `np.int`, you may wish to use e.g. `np.int64` or `np.int32` to specify the precision. If you wish to review your current use, check the release note link for additional information.\n",
      "Deprecated in NumPy 1.20; for more details and guidance: https://numpy.org/devdocs/release/1.20.0-notes.html#deprecations\n",
      "  T_Train = T_Train.astype(np.int)\n",
      "INFO:pystan:COMPILING THE C++ CODE FOR MODEL anon_model_16a4048a3c1979a5f7520751e90d6471 NOW.\n"
     ]
    },
    {
     "name": "stdout",
     "output_type": "stream",
     "text": [
      "(1005,)\n",
      "[770]\n",
      "9\n"
     ]
    },
    {
     "name": "stderr",
     "output_type": "stream",
     "text": [
      "WARNING:pystan:829 of 1000 iterations saturated the maximum tree depth of 10 (82.9 %)\n",
      "WARNING:pystan:Run again with max_treedepth larger than 10 to avoid saturation\n",
      "<ipython-input-2-f19908f94e53>:67: UserWarning: Pickling fit objects is an experimental feature!\n",
      "The relevant StanModel instance must be pickled along with this fit object.\n",
      "When unpickling the StanModel must be unpickled first.\n",
      "  pickle.dump({'model':sm, 'fit':fit},f)\n",
      "<ipython-input-2-f19908f94e53>:54: DeprecationWarning: `np.int` is a deprecated alias for the builtin `int`. To silence this warning, use `int` by itself. Doing this will not modify any behavior and is safe. When replacing `np.int`, you may wish to use e.g. `np.int64` or `np.int32` to specify the precision. If you wish to review your current use, check the release note link for additional information.\n",
      "Deprecated in NumPy 1.20; for more details and guidance: https://numpy.org/devdocs/release/1.20.0-notes.html#deprecations\n",
      "  T_Train = T_Train.astype(np.int)\n",
      "INFO:pystan:COMPILING THE C++ CODE FOR MODEL anon_model_16a4048a3c1979a5f7520751e90d6471 NOW.\n"
     ]
    },
    {
     "name": "stdout",
     "output_type": "stream",
     "text": [
      "(1004,)\n",
      "[4]\n",
      "10\n"
     ]
    },
    {
     "name": "stderr",
     "output_type": "stream",
     "text": [
      "WARNING:pystan:809 of 1000 iterations saturated the maximum tree depth of 10 (80.9 %)\n",
      "WARNING:pystan:Run again with max_treedepth larger than 10 to avoid saturation\n",
      "<ipython-input-2-f19908f94e53>:67: UserWarning: Pickling fit objects is an experimental feature!\n",
      "The relevant StanModel instance must be pickled along with this fit object.\n",
      "When unpickling the StanModel must be unpickled first.\n",
      "  pickle.dump({'model':sm, 'fit':fit},f)\n",
      "<ipython-input-2-f19908f94e53>:54: DeprecationWarning: `np.int` is a deprecated alias for the builtin `int`. To silence this warning, use `int` by itself. Doing this will not modify any behavior and is safe. When replacing `np.int`, you may wish to use e.g. `np.int64` or `np.int32` to specify the precision. If you wish to review your current use, check the release note link for additional information.\n",
      "Deprecated in NumPy 1.20; for more details and guidance: https://numpy.org/devdocs/release/1.20.0-notes.html#deprecations\n",
      "  T_Train = T_Train.astype(np.int)\n",
      "INFO:pystan:COMPILING THE C++ CODE FOR MODEL anon_model_16a4048a3c1979a5f7520751e90d6471 NOW.\n"
     ]
    },
    {
     "name": "stdout",
     "output_type": "stream",
     "text": [
      "(1003,)\n",
      "[620]\n",
      "11\n"
     ]
    },
    {
     "name": "stderr",
     "output_type": "stream",
     "text": [
      "WARNING:pystan:831 of 1000 iterations saturated the maximum tree depth of 10 (83.1 %)\n",
      "WARNING:pystan:Run again with max_treedepth larger than 10 to avoid saturation\n",
      "<ipython-input-2-f19908f94e53>:67: UserWarning: Pickling fit objects is an experimental feature!\n",
      "The relevant StanModel instance must be pickled along with this fit object.\n",
      "When unpickling the StanModel must be unpickled first.\n",
      "  pickle.dump({'model':sm, 'fit':fit},f)\n",
      "<ipython-input-2-f19908f94e53>:54: DeprecationWarning: `np.int` is a deprecated alias for the builtin `int`. To silence this warning, use `int` by itself. Doing this will not modify any behavior and is safe. When replacing `np.int`, you may wish to use e.g. `np.int64` or `np.int32` to specify the precision. If you wish to review your current use, check the release note link for additional information.\n",
      "Deprecated in NumPy 1.20; for more details and guidance: https://numpy.org/devdocs/release/1.20.0-notes.html#deprecations\n",
      "  T_Train = T_Train.astype(np.int)\n",
      "INFO:pystan:COMPILING THE C++ CODE FOR MODEL anon_model_16a4048a3c1979a5f7520751e90d6471 NOW.\n"
     ]
    },
    {
     "name": "stdout",
     "output_type": "stream",
     "text": [
      "(1002,)\n",
      "[329]\n",
      "12\n"
     ]
    },
    {
     "name": "stderr",
     "output_type": "stream",
     "text": [
      "WARNING:pystan:858 of 1000 iterations saturated the maximum tree depth of 10 (85.8 %)\n",
      "WARNING:pystan:Run again with max_treedepth larger than 10 to avoid saturation\n",
      "<ipython-input-2-f19908f94e53>:67: UserWarning: Pickling fit objects is an experimental feature!\n",
      "The relevant StanModel instance must be pickled along with this fit object.\n",
      "When unpickling the StanModel must be unpickled first.\n",
      "  pickle.dump({'model':sm, 'fit':fit},f)\n",
      "<ipython-input-2-f19908f94e53>:54: DeprecationWarning: `np.int` is a deprecated alias for the builtin `int`. To silence this warning, use `int` by itself. Doing this will not modify any behavior and is safe. When replacing `np.int`, you may wish to use e.g. `np.int64` or `np.int32` to specify the precision. If you wish to review your current use, check the release note link for additional information.\n",
      "Deprecated in NumPy 1.20; for more details and guidance: https://numpy.org/devdocs/release/1.20.0-notes.html#deprecations\n",
      "  T_Train = T_Train.astype(np.int)\n",
      "INFO:pystan:COMPILING THE C++ CODE FOR MODEL anon_model_16a4048a3c1979a5f7520751e90d6471 NOW.\n"
     ]
    },
    {
     "name": "stdout",
     "output_type": "stream",
     "text": [
      "(1001,)\n",
      "[326]\n",
      "13\n"
     ]
    },
    {
     "name": "stderr",
     "output_type": "stream",
     "text": [
      "WARNING:pystan:852 of 1000 iterations saturated the maximum tree depth of 10 (85.2 %)\n",
      "WARNING:pystan:Run again with max_treedepth larger than 10 to avoid saturation\n",
      "<ipython-input-2-f19908f94e53>:67: UserWarning: Pickling fit objects is an experimental feature!\n",
      "The relevant StanModel instance must be pickled along with this fit object.\n",
      "When unpickling the StanModel must be unpickled first.\n",
      "  pickle.dump({'model':sm, 'fit':fit},f)\n",
      "<ipython-input-2-f19908f94e53>:54: DeprecationWarning: `np.int` is a deprecated alias for the builtin `int`. To silence this warning, use `int` by itself. Doing this will not modify any behavior and is safe. When replacing `np.int`, you may wish to use e.g. `np.int64` or `np.int32` to specify the precision. If you wish to review your current use, check the release note link for additional information.\n",
      "Deprecated in NumPy 1.20; for more details and guidance: https://numpy.org/devdocs/release/1.20.0-notes.html#deprecations\n",
      "  T_Train = T_Train.astype(np.int)\n",
      "INFO:pystan:COMPILING THE C++ CODE FOR MODEL anon_model_16a4048a3c1979a5f7520751e90d6471 NOW.\n"
     ]
    },
    {
     "name": "stdout",
     "output_type": "stream",
     "text": [
      "(1000,)\n",
      "[774]\n",
      "14\n"
     ]
    },
    {
     "name": "stderr",
     "output_type": "stream",
     "text": [
      "WARNING:pystan:845 of 1000 iterations saturated the maximum tree depth of 10 (84.5 %)\n",
      "WARNING:pystan:Run again with max_treedepth larger than 10 to avoid saturation\n",
      "<ipython-input-2-f19908f94e53>:67: UserWarning: Pickling fit objects is an experimental feature!\n",
      "The relevant StanModel instance must be pickled along with this fit object.\n",
      "When unpickling the StanModel must be unpickled first.\n",
      "  pickle.dump({'model':sm, 'fit':fit},f)\n",
      "<ipython-input-2-f19908f94e53>:54: DeprecationWarning: `np.int` is a deprecated alias for the builtin `int`. To silence this warning, use `int` by itself. Doing this will not modify any behavior and is safe. When replacing `np.int`, you may wish to use e.g. `np.int64` or `np.int32` to specify the precision. If you wish to review your current use, check the release note link for additional information.\n",
      "Deprecated in NumPy 1.20; for more details and guidance: https://numpy.org/devdocs/release/1.20.0-notes.html#deprecations\n",
      "  T_Train = T_Train.astype(np.int)\n",
      "INFO:pystan:COMPILING THE C++ CODE FOR MODEL anon_model_16a4048a3c1979a5f7520751e90d6471 NOW.\n"
     ]
    },
    {
     "name": "stdout",
     "output_type": "stream",
     "text": [
      "(999,)\n",
      "[784]\n",
      "15\n"
     ]
    },
    {
     "name": "stderr",
     "output_type": "stream",
     "text": [
      "WARNING:pystan:834 of 1000 iterations saturated the maximum tree depth of 10 (83.4 %)\n",
      "WARNING:pystan:Run again with max_treedepth larger than 10 to avoid saturation\n",
      "<ipython-input-2-f19908f94e53>:67: UserWarning: Pickling fit objects is an experimental feature!\n",
      "The relevant StanModel instance must be pickled along with this fit object.\n",
      "When unpickling the StanModel must be unpickled first.\n",
      "  pickle.dump({'model':sm, 'fit':fit},f)\n",
      "<ipython-input-2-f19908f94e53>:54: DeprecationWarning: `np.int` is a deprecated alias for the builtin `int`. To silence this warning, use `int` by itself. Doing this will not modify any behavior and is safe. When replacing `np.int`, you may wish to use e.g. `np.int64` or `np.int32` to specify the precision. If you wish to review your current use, check the release note link for additional information.\n",
      "Deprecated in NumPy 1.20; for more details and guidance: https://numpy.org/devdocs/release/1.20.0-notes.html#deprecations\n",
      "  T_Train = T_Train.astype(np.int)\n",
      "INFO:pystan:COMPILING THE C++ CODE FOR MODEL anon_model_16a4048a3c1979a5f7520751e90d6471 NOW.\n"
     ]
    },
    {
     "name": "stdout",
     "output_type": "stream",
     "text": [
      "(998,)\n",
      "[891]\n",
      "16\n"
     ]
    },
    {
     "name": "stderr",
     "output_type": "stream",
     "text": [
      "WARNING:pystan:842 of 1000 iterations saturated the maximum tree depth of 10 (84.2 %)\n",
      "WARNING:pystan:Run again with max_treedepth larger than 10 to avoid saturation\n",
      "<ipython-input-2-f19908f94e53>:67: UserWarning: Pickling fit objects is an experimental feature!\n",
      "The relevant StanModel instance must be pickled along with this fit object.\n",
      "When unpickling the StanModel must be unpickled first.\n",
      "  pickle.dump({'model':sm, 'fit':fit},f)\n",
      "<ipython-input-2-f19908f94e53>:54: DeprecationWarning: `np.int` is a deprecated alias for the builtin `int`. To silence this warning, use `int` by itself. Doing this will not modify any behavior and is safe. When replacing `np.int`, you may wish to use e.g. `np.int64` or `np.int32` to specify the precision. If you wish to review your current use, check the release note link for additional information.\n",
      "Deprecated in NumPy 1.20; for more details and guidance: https://numpy.org/devdocs/release/1.20.0-notes.html#deprecations\n",
      "  T_Train = T_Train.astype(np.int)\n",
      "INFO:pystan:COMPILING THE C++ CODE FOR MODEL anon_model_16a4048a3c1979a5f7520751e90d6471 NOW.\n"
     ]
    },
    {
     "name": "stdout",
     "output_type": "stream",
     "text": [
      "(997,)\n",
      "[456]\n",
      "17\n"
     ]
    },
    {
     "name": "stderr",
     "output_type": "stream",
     "text": [
      "WARNING:pystan:826 of 1000 iterations saturated the maximum tree depth of 10 (82.6 %)\n",
      "WARNING:pystan:Run again with max_treedepth larger than 10 to avoid saturation\n",
      "<ipython-input-2-f19908f94e53>:67: UserWarning: Pickling fit objects is an experimental feature!\n",
      "The relevant StanModel instance must be pickled along with this fit object.\n",
      "When unpickling the StanModel must be unpickled first.\n",
      "  pickle.dump({'model':sm, 'fit':fit},f)\n",
      "<ipython-input-2-f19908f94e53>:54: DeprecationWarning: `np.int` is a deprecated alias for the builtin `int`. To silence this warning, use `int` by itself. Doing this will not modify any behavior and is safe. When replacing `np.int`, you may wish to use e.g. `np.int64` or `np.int32` to specify the precision. If you wish to review your current use, check the release note link for additional information.\n",
      "Deprecated in NumPy 1.20; for more details and guidance: https://numpy.org/devdocs/release/1.20.0-notes.html#deprecations\n",
      "  T_Train = T_Train.astype(np.int)\n",
      "INFO:pystan:COMPILING THE C++ CODE FOR MODEL anon_model_16a4048a3c1979a5f7520751e90d6471 NOW.\n"
     ]
    },
    {
     "name": "stdout",
     "output_type": "stream",
     "text": [
      "(996,)\n",
      "[8]\n",
      "18\n"
     ]
    },
    {
     "name": "stderr",
     "output_type": "stream",
     "text": [
      "WARNING:pystan:860 of 1000 iterations saturated the maximum tree depth of 10 (86 %)\n",
      "WARNING:pystan:Run again with max_treedepth larger than 10 to avoid saturation\n",
      "<ipython-input-2-f19908f94e53>:67: UserWarning: Pickling fit objects is an experimental feature!\n",
      "The relevant StanModel instance must be pickled along with this fit object.\n",
      "When unpickling the StanModel must be unpickled first.\n",
      "  pickle.dump({'model':sm, 'fit':fit},f)\n",
      "<ipython-input-2-f19908f94e53>:54: DeprecationWarning: `np.int` is a deprecated alias for the builtin `int`. To silence this warning, use `int` by itself. Doing this will not modify any behavior and is safe. When replacing `np.int`, you may wish to use e.g. `np.int64` or `np.int32` to specify the precision. If you wish to review your current use, check the release note link for additional information.\n",
      "Deprecated in NumPy 1.20; for more details and guidance: https://numpy.org/devdocs/release/1.20.0-notes.html#deprecations\n",
      "  T_Train = T_Train.astype(np.int)\n",
      "INFO:pystan:COMPILING THE C++ CODE FOR MODEL anon_model_16a4048a3c1979a5f7520751e90d6471 NOW.\n"
     ]
    },
    {
     "name": "stdout",
     "output_type": "stream",
     "text": [
      "(995,)\n",
      "[749]\n",
      "19\n"
     ]
    },
    {
     "name": "stderr",
     "output_type": "stream",
     "text": [
      "WARNING:pystan:858 of 1000 iterations saturated the maximum tree depth of 10 (85.8 %)\n",
      "WARNING:pystan:Run again with max_treedepth larger than 10 to avoid saturation\n",
      "<ipython-input-2-f19908f94e53>:67: UserWarning: Pickling fit objects is an experimental feature!\n",
      "The relevant StanModel instance must be pickled along with this fit object.\n",
      "When unpickling the StanModel must be unpickled first.\n",
      "  pickle.dump({'model':sm, 'fit':fit},f)\n",
      "<ipython-input-2-f19908f94e53>:54: DeprecationWarning: `np.int` is a deprecated alias for the builtin `int`. To silence this warning, use `int` by itself. Doing this will not modify any behavior and is safe. When replacing `np.int`, you may wish to use e.g. `np.int64` or `np.int32` to specify the precision. If you wish to review your current use, check the release note link for additional information.\n",
      "Deprecated in NumPy 1.20; for more details and guidance: https://numpy.org/devdocs/release/1.20.0-notes.html#deprecations\n",
      "  T_Train = T_Train.astype(np.int)\n",
      "INFO:pystan:COMPILING THE C++ CODE FOR MODEL anon_model_16a4048a3c1979a5f7520751e90d6471 NOW.\n"
     ]
    },
    {
     "name": "stdout",
     "output_type": "stream",
     "text": [
      "(994,)\n",
      "[105]\n",
      "20\n"
     ]
    },
    {
     "name": "stderr",
     "output_type": "stream",
     "text": [
      "WARNING:pystan:835 of 1000 iterations saturated the maximum tree depth of 10 (83.5 %)\n",
      "WARNING:pystan:Run again with max_treedepth larger than 10 to avoid saturation\n",
      "<ipython-input-2-f19908f94e53>:67: UserWarning: Pickling fit objects is an experimental feature!\n",
      "The relevant StanModel instance must be pickled along with this fit object.\n",
      "When unpickling the StanModel must be unpickled first.\n",
      "  pickle.dump({'model':sm, 'fit':fit},f)\n",
      "<ipython-input-2-f19908f94e53>:54: DeprecationWarning: `np.int` is a deprecated alias for the builtin `int`. To silence this warning, use `int` by itself. Doing this will not modify any behavior and is safe. When replacing `np.int`, you may wish to use e.g. `np.int64` or `np.int32` to specify the precision. If you wish to review your current use, check the release note link for additional information.\n",
      "Deprecated in NumPy 1.20; for more details and guidance: https://numpy.org/devdocs/release/1.20.0-notes.html#deprecations\n",
      "  T_Train = T_Train.astype(np.int)\n",
      "INFO:pystan:COMPILING THE C++ CODE FOR MODEL anon_model_16a4048a3c1979a5f7520751e90d6471 NOW.\n"
     ]
    },
    {
     "name": "stdout",
     "output_type": "stream",
     "text": [
      "(993,)\n",
      "[405]\n",
      "21\n"
     ]
    },
    {
     "name": "stderr",
     "output_type": "stream",
     "text": [
      "WARNING:pystan:863 of 1000 iterations saturated the maximum tree depth of 10 (86.3 %)\n",
      "WARNING:pystan:Run again with max_treedepth larger than 10 to avoid saturation\n",
      "<ipython-input-2-f19908f94e53>:67: UserWarning: Pickling fit objects is an experimental feature!\n",
      "The relevant StanModel instance must be pickled along with this fit object.\n",
      "When unpickling the StanModel must be unpickled first.\n",
      "  pickle.dump({'model':sm, 'fit':fit},f)\n",
      "<ipython-input-2-f19908f94e53>:54: DeprecationWarning: `np.int` is a deprecated alias for the builtin `int`. To silence this warning, use `int` by itself. Doing this will not modify any behavior and is safe. When replacing `np.int`, you may wish to use e.g. `np.int64` or `np.int32` to specify the precision. If you wish to review your current use, check the release note link for additional information.\n",
      "Deprecated in NumPy 1.20; for more details and guidance: https://numpy.org/devdocs/release/1.20.0-notes.html#deprecations\n",
      "  T_Train = T_Train.astype(np.int)\n",
      "INFO:pystan:COMPILING THE C++ CODE FOR MODEL anon_model_16a4048a3c1979a5f7520751e90d6471 NOW.\n"
     ]
    },
    {
     "name": "stdout",
     "output_type": "stream",
     "text": [
      "(992,)\n",
      "[965]\n",
      "22\n"
     ]
    },
    {
     "name": "stderr",
     "output_type": "stream",
     "text": [
      "WARNING:pystan:851 of 1000 iterations saturated the maximum tree depth of 10 (85.1 %)\n",
      "WARNING:pystan:Run again with max_treedepth larger than 10 to avoid saturation\n",
      "<ipython-input-2-f19908f94e53>:67: UserWarning: Pickling fit objects is an experimental feature!\n",
      "The relevant StanModel instance must be pickled along with this fit object.\n",
      "When unpickling the StanModel must be unpickled first.\n",
      "  pickle.dump({'model':sm, 'fit':fit},f)\n",
      "<ipython-input-2-f19908f94e53>:54: DeprecationWarning: `np.int` is a deprecated alias for the builtin `int`. To silence this warning, use `int` by itself. Doing this will not modify any behavior and is safe. When replacing `np.int`, you may wish to use e.g. `np.int64` or `np.int32` to specify the precision. If you wish to review your current use, check the release note link for additional information.\n",
      "Deprecated in NumPy 1.20; for more details and guidance: https://numpy.org/devdocs/release/1.20.0-notes.html#deprecations\n",
      "  T_Train = T_Train.astype(np.int)\n",
      "INFO:pystan:COMPILING THE C++ CODE FOR MODEL anon_model_16a4048a3c1979a5f7520751e90d6471 NOW.\n"
     ]
    },
    {
     "name": "stdout",
     "output_type": "stream",
     "text": [
      "(991,)\n",
      "[954]\n",
      "23\n"
     ]
    },
    {
     "name": "stderr",
     "output_type": "stream",
     "text": [
      "WARNING:pystan:841 of 1000 iterations saturated the maximum tree depth of 10 (84.1 %)\n",
      "WARNING:pystan:Run again with max_treedepth larger than 10 to avoid saturation\n",
      "<ipython-input-2-f19908f94e53>:67: UserWarning: Pickling fit objects is an experimental feature!\n",
      "The relevant StanModel instance must be pickled along with this fit object.\n",
      "When unpickling the StanModel must be unpickled first.\n",
      "  pickle.dump({'model':sm, 'fit':fit},f)\n",
      "<ipython-input-2-f19908f94e53>:54: DeprecationWarning: `np.int` is a deprecated alias for the builtin `int`. To silence this warning, use `int` by itself. Doing this will not modify any behavior and is safe. When replacing `np.int`, you may wish to use e.g. `np.int64` or `np.int32` to specify the precision. If you wish to review your current use, check the release note link for additional information.\n",
      "Deprecated in NumPy 1.20; for more details and guidance: https://numpy.org/devdocs/release/1.20.0-notes.html#deprecations\n",
      "  T_Train = T_Train.astype(np.int)\n",
      "INFO:pystan:COMPILING THE C++ CODE FOR MODEL anon_model_16a4048a3c1979a5f7520751e90d6471 NOW.\n"
     ]
    },
    {
     "name": "stdout",
     "output_type": "stream",
     "text": [
      "(990,)\n",
      "[954]\n",
      "24\n"
     ]
    },
    {
     "name": "stderr",
     "output_type": "stream",
     "text": [
      "WARNING:pystan:866 of 1000 iterations saturated the maximum tree depth of 10 (86.6 %)\n",
      "WARNING:pystan:Run again with max_treedepth larger than 10 to avoid saturation\n",
      "<ipython-input-2-f19908f94e53>:67: UserWarning: Pickling fit objects is an experimental feature!\n",
      "The relevant StanModel instance must be pickled along with this fit object.\n",
      "When unpickling the StanModel must be unpickled first.\n",
      "  pickle.dump({'model':sm, 'fit':fit},f)\n",
      "<ipython-input-2-f19908f94e53>:54: DeprecationWarning: `np.int` is a deprecated alias for the builtin `int`. To silence this warning, use `int` by itself. Doing this will not modify any behavior and is safe. When replacing `np.int`, you may wish to use e.g. `np.int64` or `np.int32` to specify the precision. If you wish to review your current use, check the release note link for additional information.\n",
      "Deprecated in NumPy 1.20; for more details and guidance: https://numpy.org/devdocs/release/1.20.0-notes.html#deprecations\n",
      "  T_Train = T_Train.astype(np.int)\n",
      "INFO:pystan:COMPILING THE C++ CODE FOR MODEL anon_model_16a4048a3c1979a5f7520751e90d6471 NOW.\n"
     ]
    },
    {
     "name": "stdout",
     "output_type": "stream",
     "text": [
      "(989,)\n",
      "[415]\n",
      "25\n"
     ]
    },
    {
     "name": "stderr",
     "output_type": "stream",
     "text": [
      "WARNING:pystan:852 of 1000 iterations saturated the maximum tree depth of 10 (85.2 %)\n",
      "WARNING:pystan:Run again with max_treedepth larger than 10 to avoid saturation\n",
      "<ipython-input-2-f19908f94e53>:67: UserWarning: Pickling fit objects is an experimental feature!\n",
      "The relevant StanModel instance must be pickled along with this fit object.\n",
      "When unpickling the StanModel must be unpickled first.\n",
      "  pickle.dump({'model':sm, 'fit':fit},f)\n",
      "<ipython-input-2-f19908f94e53>:54: DeprecationWarning: `np.int` is a deprecated alias for the builtin `int`. To silence this warning, use `int` by itself. Doing this will not modify any behavior and is safe. When replacing `np.int`, you may wish to use e.g. `np.int64` or `np.int32` to specify the precision. If you wish to review your current use, check the release note link for additional information.\n",
      "Deprecated in NumPy 1.20; for more details and guidance: https://numpy.org/devdocs/release/1.20.0-notes.html#deprecations\n",
      "  T_Train = T_Train.astype(np.int)\n",
      "INFO:pystan:COMPILING THE C++ CODE FOR MODEL anon_model_16a4048a3c1979a5f7520751e90d6471 NOW.\n"
     ]
    },
    {
     "name": "stdout",
     "output_type": "stream",
     "text": [
      "(988,)\n",
      "[109]\n",
      "26\n"
     ]
    },
    {
     "name": "stderr",
     "output_type": "stream",
     "text": [
      "WARNING:pystan:852 of 1000 iterations saturated the maximum tree depth of 10 (85.2 %)\n",
      "WARNING:pystan:Run again with max_treedepth larger than 10 to avoid saturation\n",
      "<ipython-input-2-f19908f94e53>:67: UserWarning: Pickling fit objects is an experimental feature!\n",
      "The relevant StanModel instance must be pickled along with this fit object.\n",
      "When unpickling the StanModel must be unpickled first.\n",
      "  pickle.dump({'model':sm, 'fit':fit},f)\n",
      "<ipython-input-2-f19908f94e53>:54: DeprecationWarning: `np.int` is a deprecated alias for the builtin `int`. To silence this warning, use `int` by itself. Doing this will not modify any behavior and is safe. When replacing `np.int`, you may wish to use e.g. `np.int64` or `np.int32` to specify the precision. If you wish to review your current use, check the release note link for additional information.\n",
      "Deprecated in NumPy 1.20; for more details and guidance: https://numpy.org/devdocs/release/1.20.0-notes.html#deprecations\n",
      "  T_Train = T_Train.astype(np.int)\n",
      "INFO:pystan:COMPILING THE C++ CODE FOR MODEL anon_model_16a4048a3c1979a5f7520751e90d6471 NOW.\n"
     ]
    },
    {
     "name": "stdout",
     "output_type": "stream",
     "text": [
      "(987,)\n",
      "[318]\n",
      "27\n"
     ]
    },
    {
     "name": "stderr",
     "output_type": "stream",
     "text": [
      "WARNING:pystan:866 of 1000 iterations saturated the maximum tree depth of 10 (86.6 %)\n",
      "WARNING:pystan:Run again with max_treedepth larger than 10 to avoid saturation\n",
      "<ipython-input-2-f19908f94e53>:67: UserWarning: Pickling fit objects is an experimental feature!\n",
      "The relevant StanModel instance must be pickled along with this fit object.\n",
      "When unpickling the StanModel must be unpickled first.\n",
      "  pickle.dump({'model':sm, 'fit':fit},f)\n",
      "<ipython-input-2-f19908f94e53>:54: DeprecationWarning: `np.int` is a deprecated alias for the builtin `int`. To silence this warning, use `int` by itself. Doing this will not modify any behavior and is safe. When replacing `np.int`, you may wish to use e.g. `np.int64` or `np.int32` to specify the precision. If you wish to review your current use, check the release note link for additional information.\n",
      "Deprecated in NumPy 1.20; for more details and guidance: https://numpy.org/devdocs/release/1.20.0-notes.html#deprecations\n",
      "  T_Train = T_Train.astype(np.int)\n",
      "INFO:pystan:COMPILING THE C++ CODE FOR MODEL anon_model_16a4048a3c1979a5f7520751e90d6471 NOW.\n"
     ]
    },
    {
     "name": "stdout",
     "output_type": "stream",
     "text": [
      "(986,)\n",
      "[689]\n",
      "28\n"
     ]
    },
    {
     "name": "stderr",
     "output_type": "stream",
     "text": [
      "WARNING:pystan:839 of 1000 iterations saturated the maximum tree depth of 10 (83.9 %)\n",
      "WARNING:pystan:Run again with max_treedepth larger than 10 to avoid saturation\n",
      "<ipython-input-2-f19908f94e53>:67: UserWarning: Pickling fit objects is an experimental feature!\n",
      "The relevant StanModel instance must be pickled along with this fit object.\n",
      "When unpickling the StanModel must be unpickled first.\n",
      "  pickle.dump({'model':sm, 'fit':fit},f)\n",
      "<ipython-input-2-f19908f94e53>:54: DeprecationWarning: `np.int` is a deprecated alias for the builtin `int`. To silence this warning, use `int` by itself. Doing this will not modify any behavior and is safe. When replacing `np.int`, you may wish to use e.g. `np.int64` or `np.int32` to specify the precision. If you wish to review your current use, check the release note link for additional information.\n",
      "Deprecated in NumPy 1.20; for more details and guidance: https://numpy.org/devdocs/release/1.20.0-notes.html#deprecations\n",
      "  T_Train = T_Train.astype(np.int)\n",
      "INFO:pystan:COMPILING THE C++ CODE FOR MODEL anon_model_16a4048a3c1979a5f7520751e90d6471 NOW.\n"
     ]
    },
    {
     "name": "stdout",
     "output_type": "stream",
     "text": [
      "(985,)\n",
      "[853]\n",
      "29\n"
     ]
    },
    {
     "name": "stderr",
     "output_type": "stream",
     "text": [
      "WARNING:pystan:875 of 1000 iterations saturated the maximum tree depth of 10 (87.5 %)\n",
      "WARNING:pystan:Run again with max_treedepth larger than 10 to avoid saturation\n",
      "<ipython-input-2-f19908f94e53>:67: UserWarning: Pickling fit objects is an experimental feature!\n",
      "The relevant StanModel instance must be pickled along with this fit object.\n",
      "When unpickling the StanModel must be unpickled first.\n",
      "  pickle.dump({'model':sm, 'fit':fit},f)\n",
      "<ipython-input-2-f19908f94e53>:54: DeprecationWarning: `np.int` is a deprecated alias for the builtin `int`. To silence this warning, use `int` by itself. Doing this will not modify any behavior and is safe. When replacing `np.int`, you may wish to use e.g. `np.int64` or `np.int32` to specify the precision. If you wish to review your current use, check the release note link for additional information.\n",
      "Deprecated in NumPy 1.20; for more details and guidance: https://numpy.org/devdocs/release/1.20.0-notes.html#deprecations\n",
      "  T_Train = T_Train.astype(np.int)\n",
      "INFO:pystan:COMPILING THE C++ CODE FOR MODEL anon_model_16a4048a3c1979a5f7520751e90d6471 NOW.\n"
     ]
    },
    {
     "name": "stdout",
     "output_type": "stream",
     "text": [
      "(984,)\n",
      "[264]\n",
      "30\n"
     ]
    },
    {
     "name": "stderr",
     "output_type": "stream",
     "text": [
      "WARNING:pystan:838 of 1000 iterations saturated the maximum tree depth of 10 (83.8 %)\n",
      "WARNING:pystan:Run again with max_treedepth larger than 10 to avoid saturation\n",
      "<ipython-input-2-f19908f94e53>:67: UserWarning: Pickling fit objects is an experimental feature!\n",
      "The relevant StanModel instance must be pickled along with this fit object.\n",
      "When unpickling the StanModel must be unpickled first.\n",
      "  pickle.dump({'model':sm, 'fit':fit},f)\n",
      "<ipython-input-2-f19908f94e53>:54: DeprecationWarning: `np.int` is a deprecated alias for the builtin `int`. To silence this warning, use `int` by itself. Doing this will not modify any behavior and is safe. When replacing `np.int`, you may wish to use e.g. `np.int64` or `np.int32` to specify the precision. If you wish to review your current use, check the release note link for additional information.\n",
      "Deprecated in NumPy 1.20; for more details and guidance: https://numpy.org/devdocs/release/1.20.0-notes.html#deprecations\n",
      "  T_Train = T_Train.astype(np.int)\n",
      "INFO:pystan:COMPILING THE C++ CODE FOR MODEL anon_model_16a4048a3c1979a5f7520751e90d6471 NOW.\n"
     ]
    },
    {
     "name": "stdout",
     "output_type": "stream",
     "text": [
      "(983,)\n",
      "[457]\n",
      "31\n"
     ]
    },
    {
     "name": "stderr",
     "output_type": "stream",
     "text": [
      "WARNING:pystan:836 of 1000 iterations saturated the maximum tree depth of 10 (83.6 %)\n",
      "WARNING:pystan:Run again with max_treedepth larger than 10 to avoid saturation\n",
      "<ipython-input-2-f19908f94e53>:67: UserWarning: Pickling fit objects is an experimental feature!\n",
      "The relevant StanModel instance must be pickled along with this fit object.\n",
      "When unpickling the StanModel must be unpickled first.\n",
      "  pickle.dump({'model':sm, 'fit':fit},f)\n",
      "<ipython-input-2-f19908f94e53>:54: DeprecationWarning: `np.int` is a deprecated alias for the builtin `int`. To silence this warning, use `int` by itself. Doing this will not modify any behavior and is safe. When replacing `np.int`, you may wish to use e.g. `np.int64` or `np.int32` to specify the precision. If you wish to review your current use, check the release note link for additional information.\n",
      "Deprecated in NumPy 1.20; for more details and guidance: https://numpy.org/devdocs/release/1.20.0-notes.html#deprecations\n",
      "  T_Train = T_Train.astype(np.int)\n",
      "INFO:pystan:COMPILING THE C++ CODE FOR MODEL anon_model_16a4048a3c1979a5f7520751e90d6471 NOW.\n"
     ]
    },
    {
     "name": "stdout",
     "output_type": "stream",
     "text": [
      "(982,)\n",
      "[960]\n",
      "32\n"
     ]
    },
    {
     "name": "stderr",
     "output_type": "stream",
     "text": [
      "WARNING:pystan:852 of 1000 iterations saturated the maximum tree depth of 10 (85.2 %)\n",
      "WARNING:pystan:Run again with max_treedepth larger than 10 to avoid saturation\n",
      "<ipython-input-2-f19908f94e53>:67: UserWarning: Pickling fit objects is an experimental feature!\n",
      "The relevant StanModel instance must be pickled along with this fit object.\n",
      "When unpickling the StanModel must be unpickled first.\n",
      "  pickle.dump({'model':sm, 'fit':fit},f)\n",
      "<ipython-input-2-f19908f94e53>:54: DeprecationWarning: `np.int` is a deprecated alias for the builtin `int`. To silence this warning, use `int` by itself. Doing this will not modify any behavior and is safe. When replacing `np.int`, you may wish to use e.g. `np.int64` or `np.int32` to specify the precision. If you wish to review your current use, check the release note link for additional information.\n",
      "Deprecated in NumPy 1.20; for more details and guidance: https://numpy.org/devdocs/release/1.20.0-notes.html#deprecations\n",
      "  T_Train = T_Train.astype(np.int)\n",
      "INFO:pystan:COMPILING THE C++ CODE FOR MODEL anon_model_16a4048a3c1979a5f7520751e90d6471 NOW.\n"
     ]
    },
    {
     "name": "stdout",
     "output_type": "stream",
     "text": [
      "(981,)\n",
      "[767]\n",
      "33\n"
     ]
    },
    {
     "name": "stderr",
     "output_type": "stream",
     "text": [
      "WARNING:pystan:847 of 1000 iterations saturated the maximum tree depth of 10 (84.7 %)\n",
      "WARNING:pystan:Run again with max_treedepth larger than 10 to avoid saturation\n",
      "<ipython-input-2-f19908f94e53>:67: UserWarning: Pickling fit objects is an experimental feature!\n",
      "The relevant StanModel instance must be pickled along with this fit object.\n",
      "When unpickling the StanModel must be unpickled first.\n",
      "  pickle.dump({'model':sm, 'fit':fit},f)\n",
      "<ipython-input-2-f19908f94e53>:54: DeprecationWarning: `np.int` is a deprecated alias for the builtin `int`. To silence this warning, use `int` by itself. Doing this will not modify any behavior and is safe. When replacing `np.int`, you may wish to use e.g. `np.int64` or `np.int32` to specify the precision. If you wish to review your current use, check the release note link for additional information.\n",
      "Deprecated in NumPy 1.20; for more details and guidance: https://numpy.org/devdocs/release/1.20.0-notes.html#deprecations\n",
      "  T_Train = T_Train.astype(np.int)\n",
      "INFO:pystan:COMPILING THE C++ CODE FOR MODEL anon_model_16a4048a3c1979a5f7520751e90d6471 NOW.\n"
     ]
    },
    {
     "name": "stdout",
     "output_type": "stream",
     "text": [
      "(980,)\n",
      "[858]\n",
      "34\n"
     ]
    },
    {
     "name": "stderr",
     "output_type": "stream",
     "text": [
      "WARNING:pystan:846 of 1000 iterations saturated the maximum tree depth of 10 (84.6 %)\n",
      "WARNING:pystan:Run again with max_treedepth larger than 10 to avoid saturation\n",
      "<ipython-input-2-f19908f94e53>:67: UserWarning: Pickling fit objects is an experimental feature!\n",
      "The relevant StanModel instance must be pickled along with this fit object.\n",
      "When unpickling the StanModel must be unpickled first.\n",
      "  pickle.dump({'model':sm, 'fit':fit},f)\n",
      "<ipython-input-2-f19908f94e53>:54: DeprecationWarning: `np.int` is a deprecated alias for the builtin `int`. To silence this warning, use `int` by itself. Doing this will not modify any behavior and is safe. When replacing `np.int`, you may wish to use e.g. `np.int64` or `np.int32` to specify the precision. If you wish to review your current use, check the release note link for additional information.\n",
      "Deprecated in NumPy 1.20; for more details and guidance: https://numpy.org/devdocs/release/1.20.0-notes.html#deprecations\n",
      "  T_Train = T_Train.astype(np.int)\n",
      "INFO:pystan:COMPILING THE C++ CODE FOR MODEL anon_model_16a4048a3c1979a5f7520751e90d6471 NOW.\n"
     ]
    },
    {
     "name": "stdout",
     "output_type": "stream",
     "text": [
      "(979,)\n",
      "[218]\n",
      "35\n"
     ]
    },
    {
     "name": "stderr",
     "output_type": "stream",
     "text": [
      "WARNING:pystan:846 of 1000 iterations saturated the maximum tree depth of 10 (84.6 %)\n",
      "WARNING:pystan:Run again with max_treedepth larger than 10 to avoid saturation\n",
      "<ipython-input-2-f19908f94e53>:67: UserWarning: Pickling fit objects is an experimental feature!\n",
      "The relevant StanModel instance must be pickled along with this fit object.\n",
      "When unpickling the StanModel must be unpickled first.\n",
      "  pickle.dump({'model':sm, 'fit':fit},f)\n",
      "<ipython-input-2-f19908f94e53>:54: DeprecationWarning: `np.int` is a deprecated alias for the builtin `int`. To silence this warning, use `int` by itself. Doing this will not modify any behavior and is safe. When replacing `np.int`, you may wish to use e.g. `np.int64` or `np.int32` to specify the precision. If you wish to review your current use, check the release note link for additional information.\n",
      "Deprecated in NumPy 1.20; for more details and guidance: https://numpy.org/devdocs/release/1.20.0-notes.html#deprecations\n",
      "  T_Train = T_Train.astype(np.int)\n",
      "INFO:pystan:COMPILING THE C++ CODE FOR MODEL anon_model_16a4048a3c1979a5f7520751e90d6471 NOW.\n"
     ]
    },
    {
     "name": "stdout",
     "output_type": "stream",
     "text": [
      "(978,)\n",
      "[834]\n",
      "36\n"
     ]
    },
    {
     "name": "stderr",
     "output_type": "stream",
     "text": [
      "WARNING:pystan:858 of 1000 iterations saturated the maximum tree depth of 10 (85.8 %)\n",
      "WARNING:pystan:Run again with max_treedepth larger than 10 to avoid saturation\n",
      "<ipython-input-2-f19908f94e53>:67: UserWarning: Pickling fit objects is an experimental feature!\n",
      "The relevant StanModel instance must be pickled along with this fit object.\n",
      "When unpickling the StanModel must be unpickled first.\n",
      "  pickle.dump({'model':sm, 'fit':fit},f)\n",
      "<ipython-input-2-f19908f94e53>:54: DeprecationWarning: `np.int` is a deprecated alias for the builtin `int`. To silence this warning, use `int` by itself. Doing this will not modify any behavior and is safe. When replacing `np.int`, you may wish to use e.g. `np.int64` or `np.int32` to specify the precision. If you wish to review your current use, check the release note link for additional information.\n",
      "Deprecated in NumPy 1.20; for more details and guidance: https://numpy.org/devdocs/release/1.20.0-notes.html#deprecations\n",
      "  T_Train = T_Train.astype(np.int)\n",
      "INFO:pystan:COMPILING THE C++ CODE FOR MODEL anon_model_16a4048a3c1979a5f7520751e90d6471 NOW.\n"
     ]
    },
    {
     "name": "stdout",
     "output_type": "stream",
     "text": [
      "(977,)\n",
      "[643]\n",
      "37\n"
     ]
    },
    {
     "name": "stderr",
     "output_type": "stream",
     "text": [
      "WARNING:pystan:846 of 1000 iterations saturated the maximum tree depth of 10 (84.6 %)\n",
      "WARNING:pystan:Run again with max_treedepth larger than 10 to avoid saturation\n",
      "<ipython-input-2-f19908f94e53>:67: UserWarning: Pickling fit objects is an experimental feature!\n",
      "The relevant StanModel instance must be pickled along with this fit object.\n",
      "When unpickling the StanModel must be unpickled first.\n",
      "  pickle.dump({'model':sm, 'fit':fit},f)\n",
      "<ipython-input-2-f19908f94e53>:54: DeprecationWarning: `np.int` is a deprecated alias for the builtin `int`. To silence this warning, use `int` by itself. Doing this will not modify any behavior and is safe. When replacing `np.int`, you may wish to use e.g. `np.int64` or `np.int32` to specify the precision. If you wish to review your current use, check the release note link for additional information.\n",
      "Deprecated in NumPy 1.20; for more details and guidance: https://numpy.org/devdocs/release/1.20.0-notes.html#deprecations\n",
      "  T_Train = T_Train.astype(np.int)\n",
      "INFO:pystan:COMPILING THE C++ CODE FOR MODEL anon_model_16a4048a3c1979a5f7520751e90d6471 NOW.\n"
     ]
    },
    {
     "name": "stdout",
     "output_type": "stream",
     "text": [
      "(976,)\n",
      "[282]\n",
      "38\n"
     ]
    },
    {
     "name": "stderr",
     "output_type": "stream",
     "text": [
      "WARNING:pystan:828 of 1000 iterations saturated the maximum tree depth of 10 (82.8 %)\n",
      "WARNING:pystan:Run again with max_treedepth larger than 10 to avoid saturation\n",
      "<ipython-input-2-f19908f94e53>:67: UserWarning: Pickling fit objects is an experimental feature!\n",
      "The relevant StanModel instance must be pickled along with this fit object.\n",
      "When unpickling the StanModel must be unpickled first.\n",
      "  pickle.dump({'model':sm, 'fit':fit},f)\n",
      "<ipython-input-2-f19908f94e53>:54: DeprecationWarning: `np.int` is a deprecated alias for the builtin `int`. To silence this warning, use `int` by itself. Doing this will not modify any behavior and is safe. When replacing `np.int`, you may wish to use e.g. `np.int64` or `np.int32` to specify the precision. If you wish to review your current use, check the release note link for additional information.\n",
      "Deprecated in NumPy 1.20; for more details and guidance: https://numpy.org/devdocs/release/1.20.0-notes.html#deprecations\n",
      "  T_Train = T_Train.astype(np.int)\n",
      "INFO:pystan:COMPILING THE C++ CODE FOR MODEL anon_model_16a4048a3c1979a5f7520751e90d6471 NOW.\n"
     ]
    },
    {
     "name": "stdout",
     "output_type": "stream",
     "text": [
      "(975,)\n",
      "[414]\n",
      "39\n"
     ]
    },
    {
     "name": "stderr",
     "output_type": "stream",
     "text": [
      "WARNING:pystan:843 of 1000 iterations saturated the maximum tree depth of 10 (84.3 %)\n",
      "WARNING:pystan:Run again with max_treedepth larger than 10 to avoid saturation\n",
      "<ipython-input-2-f19908f94e53>:67: UserWarning: Pickling fit objects is an experimental feature!\n",
      "The relevant StanModel instance must be pickled along with this fit object.\n",
      "When unpickling the StanModel must be unpickled first.\n",
      "  pickle.dump({'model':sm, 'fit':fit},f)\n",
      "<ipython-input-2-f19908f94e53>:54: DeprecationWarning: `np.int` is a deprecated alias for the builtin `int`. To silence this warning, use `int` by itself. Doing this will not modify any behavior and is safe. When replacing `np.int`, you may wish to use e.g. `np.int64` or `np.int32` to specify the precision. If you wish to review your current use, check the release note link for additional information.\n",
      "Deprecated in NumPy 1.20; for more details and guidance: https://numpy.org/devdocs/release/1.20.0-notes.html#deprecations\n",
      "  T_Train = T_Train.astype(np.int)\n",
      "INFO:pystan:COMPILING THE C++ CODE FOR MODEL anon_model_16a4048a3c1979a5f7520751e90d6471 NOW.\n"
     ]
    },
    {
     "name": "stdout",
     "output_type": "stream",
     "text": [
      "(974,)\n",
      "[229]\n",
      "40\n"
     ]
    },
    {
     "name": "stderr",
     "output_type": "stream",
     "text": [
      "WARNING:pystan:811 of 1000 iterations saturated the maximum tree depth of 10 (81.1 %)\n",
      "WARNING:pystan:Run again with max_treedepth larger than 10 to avoid saturation\n",
      "<ipython-input-2-f19908f94e53>:67: UserWarning: Pickling fit objects is an experimental feature!\n",
      "The relevant StanModel instance must be pickled along with this fit object.\n",
      "When unpickling the StanModel must be unpickled first.\n",
      "  pickle.dump({'model':sm, 'fit':fit},f)\n",
      "<ipython-input-2-f19908f94e53>:54: DeprecationWarning: `np.int` is a deprecated alias for the builtin `int`. To silence this warning, use `int` by itself. Doing this will not modify any behavior and is safe. When replacing `np.int`, you may wish to use e.g. `np.int64` or `np.int32` to specify the precision. If you wish to review your current use, check the release note link for additional information.\n",
      "Deprecated in NumPy 1.20; for more details and guidance: https://numpy.org/devdocs/release/1.20.0-notes.html#deprecations\n",
      "  T_Train = T_Train.astype(np.int)\n",
      "INFO:pystan:COMPILING THE C++ CODE FOR MODEL anon_model_16a4048a3c1979a5f7520751e90d6471 NOW.\n"
     ]
    },
    {
     "name": "stdout",
     "output_type": "stream",
     "text": [
      "(973,)\n",
      "[84]\n",
      "41\n"
     ]
    },
    {
     "name": "stderr",
     "output_type": "stream",
     "text": [
      "WARNING:pystan:860 of 1000 iterations saturated the maximum tree depth of 10 (86 %)\n",
      "WARNING:pystan:Run again with max_treedepth larger than 10 to avoid saturation\n",
      "<ipython-input-2-f19908f94e53>:67: UserWarning: Pickling fit objects is an experimental feature!\n",
      "The relevant StanModel instance must be pickled along with this fit object.\n",
      "When unpickling the StanModel must be unpickled first.\n",
      "  pickle.dump({'model':sm, 'fit':fit},f)\n",
      "<ipython-input-2-f19908f94e53>:54: DeprecationWarning: `np.int` is a deprecated alias for the builtin `int`. To silence this warning, use `int` by itself. Doing this will not modify any behavior and is safe. When replacing `np.int`, you may wish to use e.g. `np.int64` or `np.int32` to specify the precision. If you wish to review your current use, check the release note link for additional information.\n",
      "Deprecated in NumPy 1.20; for more details and guidance: https://numpy.org/devdocs/release/1.20.0-notes.html#deprecations\n",
      "  T_Train = T_Train.astype(np.int)\n",
      "INFO:pystan:COMPILING THE C++ CODE FOR MODEL anon_model_16a4048a3c1979a5f7520751e90d6471 NOW.\n"
     ]
    },
    {
     "name": "stdout",
     "output_type": "stream",
     "text": [
      "(972,)\n",
      "[662]\n",
      "42\n"
     ]
    },
    {
     "name": "stderr",
     "output_type": "stream",
     "text": [
      "WARNING:pystan:831 of 1000 iterations saturated the maximum tree depth of 10 (83.1 %)\n",
      "WARNING:pystan:Run again with max_treedepth larger than 10 to avoid saturation\n",
      "<ipython-input-2-f19908f94e53>:67: UserWarning: Pickling fit objects is an experimental feature!\n",
      "The relevant StanModel instance must be pickled along with this fit object.\n",
      "When unpickling the StanModel must be unpickled first.\n",
      "  pickle.dump({'model':sm, 'fit':fit},f)\n",
      "<ipython-input-2-f19908f94e53>:54: DeprecationWarning: `np.int` is a deprecated alias for the builtin `int`. To silence this warning, use `int` by itself. Doing this will not modify any behavior and is safe. When replacing `np.int`, you may wish to use e.g. `np.int64` or `np.int32` to specify the precision. If you wish to review your current use, check the release note link for additional information.\n",
      "Deprecated in NumPy 1.20; for more details and guidance: https://numpy.org/devdocs/release/1.20.0-notes.html#deprecations\n",
      "  T_Train = T_Train.astype(np.int)\n",
      "INFO:pystan:COMPILING THE C++ CODE FOR MODEL anon_model_16a4048a3c1979a5f7520751e90d6471 NOW.\n"
     ]
    },
    {
     "name": "stdout",
     "output_type": "stream",
     "text": [
      "(971,)\n",
      "[909]\n",
      "43\n"
     ]
    },
    {
     "name": "stderr",
     "output_type": "stream",
     "text": [
      "WARNING:pystan:860 of 1000 iterations saturated the maximum tree depth of 10 (86 %)\n",
      "WARNING:pystan:Run again with max_treedepth larger than 10 to avoid saturation\n",
      "<ipython-input-2-f19908f94e53>:67: UserWarning: Pickling fit objects is an experimental feature!\n",
      "The relevant StanModel instance must be pickled along with this fit object.\n",
      "When unpickling the StanModel must be unpickled first.\n",
      "  pickle.dump({'model':sm, 'fit':fit},f)\n",
      "<ipython-input-2-f19908f94e53>:54: DeprecationWarning: `np.int` is a deprecated alias for the builtin `int`. To silence this warning, use `int` by itself. Doing this will not modify any behavior and is safe. When replacing `np.int`, you may wish to use e.g. `np.int64` or `np.int32` to specify the precision. If you wish to review your current use, check the release note link for additional information.\n",
      "Deprecated in NumPy 1.20; for more details and guidance: https://numpy.org/devdocs/release/1.20.0-notes.html#deprecations\n",
      "  T_Train = T_Train.astype(np.int)\n",
      "INFO:pystan:COMPILING THE C++ CODE FOR MODEL anon_model_16a4048a3c1979a5f7520751e90d6471 NOW.\n"
     ]
    },
    {
     "name": "stdout",
     "output_type": "stream",
     "text": [
      "(970,)\n",
      "[545]\n",
      "44\n"
     ]
    },
    {
     "name": "stderr",
     "output_type": "stream",
     "text": [
      "WARNING:pystan:845 of 1000 iterations saturated the maximum tree depth of 10 (84.5 %)\n",
      "WARNING:pystan:Run again with max_treedepth larger than 10 to avoid saturation\n",
      "<ipython-input-2-f19908f94e53>:67: UserWarning: Pickling fit objects is an experimental feature!\n",
      "The relevant StanModel instance must be pickled along with this fit object.\n",
      "When unpickling the StanModel must be unpickled first.\n",
      "  pickle.dump({'model':sm, 'fit':fit},f)\n",
      "<ipython-input-2-f19908f94e53>:54: DeprecationWarning: `np.int` is a deprecated alias for the builtin `int`. To silence this warning, use `int` by itself. Doing this will not modify any behavior and is safe. When replacing `np.int`, you may wish to use e.g. `np.int64` or `np.int32` to specify the precision. If you wish to review your current use, check the release note link for additional information.\n",
      "Deprecated in NumPy 1.20; for more details and guidance: https://numpy.org/devdocs/release/1.20.0-notes.html#deprecations\n",
      "  T_Train = T_Train.astype(np.int)\n",
      "INFO:pystan:COMPILING THE C++ CODE FOR MODEL anon_model_16a4048a3c1979a5f7520751e90d6471 NOW.\n"
     ]
    },
    {
     "name": "stdout",
     "output_type": "stream",
     "text": [
      "(969,)\n",
      "[607]\n",
      "45\n"
     ]
    },
    {
     "name": "stderr",
     "output_type": "stream",
     "text": [
      "WARNING:pystan:856 of 1000 iterations saturated the maximum tree depth of 10 (85.6 %)\n",
      "WARNING:pystan:Run again with max_treedepth larger than 10 to avoid saturation\n",
      "<ipython-input-2-f19908f94e53>:67: UserWarning: Pickling fit objects is an experimental feature!\n",
      "The relevant StanModel instance must be pickled along with this fit object.\n",
      "When unpickling the StanModel must be unpickled first.\n",
      "  pickle.dump({'model':sm, 'fit':fit},f)\n",
      "<ipython-input-2-f19908f94e53>:54: DeprecationWarning: `np.int` is a deprecated alias for the builtin `int`. To silence this warning, use `int` by itself. Doing this will not modify any behavior and is safe. When replacing `np.int`, you may wish to use e.g. `np.int64` or `np.int32` to specify the precision. If you wish to review your current use, check the release note link for additional information.\n",
      "Deprecated in NumPy 1.20; for more details and guidance: https://numpy.org/devdocs/release/1.20.0-notes.html#deprecations\n",
      "  T_Train = T_Train.astype(np.int)\n",
      "INFO:pystan:COMPILING THE C++ CODE FOR MODEL anon_model_16a4048a3c1979a5f7520751e90d6471 NOW.\n"
     ]
    },
    {
     "name": "stdout",
     "output_type": "stream",
     "text": [
      "(968,)\n",
      "[578]\n",
      "46\n"
     ]
    },
    {
     "name": "stderr",
     "output_type": "stream",
     "text": [
      "WARNING:pystan:835 of 1000 iterations saturated the maximum tree depth of 10 (83.5 %)\n",
      "WARNING:pystan:Run again with max_treedepth larger than 10 to avoid saturation\n",
      "<ipython-input-2-f19908f94e53>:67: UserWarning: Pickling fit objects is an experimental feature!\n",
      "The relevant StanModel instance must be pickled along with this fit object.\n",
      "When unpickling the StanModel must be unpickled first.\n",
      "  pickle.dump({'model':sm, 'fit':fit},f)\n",
      "<ipython-input-2-f19908f94e53>:54: DeprecationWarning: `np.int` is a deprecated alias for the builtin `int`. To silence this warning, use `int` by itself. Doing this will not modify any behavior and is safe. When replacing `np.int`, you may wish to use e.g. `np.int64` or `np.int32` to specify the precision. If you wish to review your current use, check the release note link for additional information.\n",
      "Deprecated in NumPy 1.20; for more details and guidance: https://numpy.org/devdocs/release/1.20.0-notes.html#deprecations\n",
      "  T_Train = T_Train.astype(np.int)\n",
      "INFO:pystan:COMPILING THE C++ CODE FOR MODEL anon_model_16a4048a3c1979a5f7520751e90d6471 NOW.\n"
     ]
    },
    {
     "name": "stdout",
     "output_type": "stream",
     "text": [
      "(967,)\n",
      "[107]\n",
      "47\n"
     ]
    },
    {
     "name": "stderr",
     "output_type": "stream",
     "text": [
      "WARNING:pystan:842 of 1000 iterations saturated the maximum tree depth of 10 (84.2 %)\n",
      "WARNING:pystan:Run again with max_treedepth larger than 10 to avoid saturation\n",
      "<ipython-input-2-f19908f94e53>:67: UserWarning: Pickling fit objects is an experimental feature!\n",
      "The relevant StanModel instance must be pickled along with this fit object.\n",
      "When unpickling the StanModel must be unpickled first.\n",
      "  pickle.dump({'model':sm, 'fit':fit},f)\n",
      "<ipython-input-2-f19908f94e53>:54: DeprecationWarning: `np.int` is a deprecated alias for the builtin `int`. To silence this warning, use `int` by itself. Doing this will not modify any behavior and is safe. When replacing `np.int`, you may wish to use e.g. `np.int64` or `np.int32` to specify the precision. If you wish to review your current use, check the release note link for additional information.\n",
      "Deprecated in NumPy 1.20; for more details and guidance: https://numpy.org/devdocs/release/1.20.0-notes.html#deprecations\n",
      "  T_Train = T_Train.astype(np.int)\n",
      "INFO:pystan:COMPILING THE C++ CODE FOR MODEL anon_model_16a4048a3c1979a5f7520751e90d6471 NOW.\n"
     ]
    },
    {
     "name": "stdout",
     "output_type": "stream",
     "text": [
      "(966,)\n",
      "[605]\n",
      "48\n"
     ]
    },
    {
     "name": "stderr",
     "output_type": "stream",
     "text": [
      "WARNING:pystan:869 of 1000 iterations saturated the maximum tree depth of 10 (86.9 %)\n",
      "WARNING:pystan:Run again with max_treedepth larger than 10 to avoid saturation\n",
      "<ipython-input-2-f19908f94e53>:67: UserWarning: Pickling fit objects is an experimental feature!\n",
      "The relevant StanModel instance must be pickled along with this fit object.\n",
      "When unpickling the StanModel must be unpickled first.\n",
      "  pickle.dump({'model':sm, 'fit':fit},f)\n",
      "<ipython-input-2-f19908f94e53>:54: DeprecationWarning: `np.int` is a deprecated alias for the builtin `int`. To silence this warning, use `int` by itself. Doing this will not modify any behavior and is safe. When replacing `np.int`, you may wish to use e.g. `np.int64` or `np.int32` to specify the precision. If you wish to review your current use, check the release note link for additional information.\n",
      "Deprecated in NumPy 1.20; for more details and guidance: https://numpy.org/devdocs/release/1.20.0-notes.html#deprecations\n",
      "  T_Train = T_Train.astype(np.int)\n",
      "INFO:pystan:COMPILING THE C++ CODE FOR MODEL anon_model_16a4048a3c1979a5f7520751e90d6471 NOW.\n"
     ]
    },
    {
     "name": "stdout",
     "output_type": "stream",
     "text": [
      "(965,)\n",
      "[959]\n",
      "49\n"
     ]
    },
    {
     "name": "stderr",
     "output_type": "stream",
     "text": [
      "WARNING:pystan:882 of 1000 iterations saturated the maximum tree depth of 10 (88.2 %)\n",
      "WARNING:pystan:Run again with max_treedepth larger than 10 to avoid saturation\n",
      "<ipython-input-2-f19908f94e53>:67: UserWarning: Pickling fit objects is an experimental feature!\n",
      "The relevant StanModel instance must be pickled along with this fit object.\n",
      "When unpickling the StanModel must be unpickled first.\n",
      "  pickle.dump({'model':sm, 'fit':fit},f)\n",
      "<ipython-input-2-f19908f94e53>:54: DeprecationWarning: `np.int` is a deprecated alias for the builtin `int`. To silence this warning, use `int` by itself. Doing this will not modify any behavior and is safe. When replacing `np.int`, you may wish to use e.g. `np.int64` or `np.int32` to specify the precision. If you wish to review your current use, check the release note link for additional information.\n",
      "Deprecated in NumPy 1.20; for more details and guidance: https://numpy.org/devdocs/release/1.20.0-notes.html#deprecations\n",
      "  T_Train = T_Train.astype(np.int)\n",
      "INFO:pystan:COMPILING THE C++ CODE FOR MODEL anon_model_16a4048a3c1979a5f7520751e90d6471 NOW.\n"
     ]
    },
    {
     "name": "stdout",
     "output_type": "stream",
     "text": [
      "(964,)\n",
      "[367]\n",
      "50\n"
     ]
    },
    {
     "name": "stderr",
     "output_type": "stream",
     "text": [
      "WARNING:pystan:Rhat above 1.1 or below 0.9 indicates that the chains very likely have not mixed\n",
      "WARNING:pystan:824 of 1000 iterations saturated the maximum tree depth of 10 (82.4 %)\n",
      "WARNING:pystan:Run again with max_treedepth larger than 10 to avoid saturation\n",
      "<ipython-input-2-f19908f94e53>:67: UserWarning: Pickling fit objects is an experimental feature!\n",
      "The relevant StanModel instance must be pickled along with this fit object.\n",
      "When unpickling the StanModel must be unpickled first.\n",
      "  pickle.dump({'model':sm, 'fit':fit},f)\n"
     ]
    },
    {
     "name": "stdout",
     "output_type": "stream",
     "text": [
      "(963,)\n",
      "[220]\n"
     ]
    }
   ],
   "source": [
    "# Overall Active Learning Process implementation. This includes:\n",
    "# 1. Computation of posterior distr. of Parameters using Stan (MCMC Method)\n",
    "# 2. Computation of BALD Acquisition Function (BALD_AF)\n",
    "# 3. Selection of \"no_select\" Data from Pool having max value of BALD_AF\n",
    "# 4. Deletion of selected data from pool and inclusion in Training Data\n",
    "# 5. Repeat until \"AL_bound\" is exhausted\n",
    "AL_bound = 50\n",
    "no_select = 1\n",
    "select_count = []\n",
    "i = 0\n",
    "while i <= AL_bound:\n",
    "    print(i)\n",
    "    params, fit, sm = Create_Fit_Save_Extract_StanModel(no_classes, D_Train, T_Train,'my_model.stan')\n",
    "    BALD_AF = BALD_Acq_Fn(params['beta'], D_pool, model)\n",
    "    \n",
    "    print(BALD_AF.shape)\n",
    "    arg_nmax = Find_argmax_AF(no_select, BALD_AF)\n",
    "    print(arg_nmax)\n",
    "    D_select, T_select, D_pool, T_pool = PicknDelete_4mPool(arg_nmax, D_pool, T_pool, BALD_AF)\n",
    "    D_Train, T_Train = Add_2Train(D_select, T_select, D_Train, T_Train)\n",
    "    model.fit(D_Train, T_Train)\n",
    "        \n",
    "    T_test_mod_proba = PredictSoftClass(model, D_test)\n",
    "    T_test_mod= PredictHardClass(model, D_test)\n",
    "        \n",
    "    acc.append(accuracy_score(T_test, T_test_mod))\n",
    "    cm.append(confusion_matrix(T_test, T_test_mod))\n",
    "    \n",
    "    \n",
    "    i = i+no_select\n",
    "    select_count.append(i)\n",
    "    "
   ]
  },
  {
   "cell_type": "code",
   "execution_count": 7,
   "metadata": {},
   "outputs": [
    {
     "data": {
      "text/plain": [
       "[0.7655786350148368,\n",
       " 0.771513353115727,\n",
       " 0.7833827893175074,\n",
       " 0.7774480712166172,\n",
       " 0.7804154302670623,\n",
       " 0.7804154302670623,\n",
       " 0.7893175074183977,\n",
       " 0.7893175074183977,\n",
       " 0.7922848664688428,\n",
       " 0.7893175074183977,\n",
       " 0.7952522255192879,\n",
       " 0.7952522255192879,\n",
       " 0.7922848664688428,\n",
       " 0.7922848664688428,\n",
       " 0.7893175074183977,\n",
       " 0.7804154302670623,\n",
       " 0.7922848664688428,\n",
       " 0.7893175074183977,\n",
       " 0.7863501483679525,\n",
       " 0.7833827893175074,\n",
       " 0.7833827893175074,\n",
       " 0.7804154302670623,\n",
       " 0.7833827893175074,\n",
       " 0.7833827893175074,\n",
       " 0.7863501483679525,\n",
       " 0.7863501483679525,\n",
       " 0.7952522255192879,\n",
       " 0.7893175074183977,\n",
       " 0.7893175074183977,\n",
       " 0.7893175074183977,\n",
       " 0.7863501483679525,\n",
       " 0.7863501483679525,\n",
       " 0.7893175074183977,\n",
       " 0.7922848664688428,\n",
       " 0.7922848664688428,\n",
       " 0.7922848664688428,\n",
       " 0.7893175074183977,\n",
       " 0.7893175074183977,\n",
       " 0.7863501483679525,\n",
       " 0.7863501483679525,\n",
       " 0.7863501483679525,\n",
       " 0.7863501483679525,\n",
       " 0.7833827893175074,\n",
       " 0.7863501483679525,\n",
       " 0.7893175074183977,\n",
       " 0.7893175074183977,\n",
       " 0.7922848664688428,\n",
       " 0.7893175074183977,\n",
       " 0.7893175074183977,\n",
       " 0.7922848664688428,\n",
       " 0.7922848664688428,\n",
       " 0.7893175074183977]"
      ]
     },
     "execution_count": 7,
     "metadata": {},
     "output_type": "execute_result"
    }
   ],
   "source": [
    "acc"
   ]
  },
  {
   "cell_type": "markdown",
   "metadata": {},
   "source": [
    "# Plotting the Accuracy Graph"
   ]
  },
  {
   "cell_type": "code",
   "execution_count": 9,
   "metadata": {},
   "outputs": [
    {
     "data": {
      "text/plain": [
       "Text(0, 0.5, 'Accuracy')"
      ]
     },
     "execution_count": 9,
     "metadata": {},
     "output_type": "execute_result"
    },
    {
     "data": {
      "image/png": "[encoded data removed]",
      "text/plain": [
       "<Figure size 720x360 with 1 Axes>"
      ]
     },
     "metadata": {
      "needs_background": "light"
     },
     "output_type": "display_data"
    }
   ],
   "source": [
    "fig = plt.figure(figsize=(10,5))\n",
    "plt.grid(True, which =\"both\")\n",
    "plt.plot(select_count, acc[0:-1])\n",
    "plt.legend(['BALD'])\n",
    "plt.title('Test Accuracy')\n",
    "plt.xlabel('Increase in samples')\n",
    "plt.ylabel('Accuracy')"
   ]
  },
  {
   "cell_type": "markdown",
   "metadata": {},
   "source": [
    "# Summary of the Posterior Distribution of the paramaters \n",
    "(computed using PYSTAN)"
   ]
  },
  {
   "cell_type": "code",
   "execution_count": 20,
   "metadata": {},
   "outputs": [
    {
     "name": "stdout",
     "output_type": "stream",
     "text": [
      "Inference for Stan model: anon_model_16a4048a3c1979a5f7520751e90d6471.\n",
      "2 chains, each with iter=1000; warmup=500; thin=1; \n",
      "post-warmup draws per chain=500, total post-warmup draws=1000.\n",
      "\n",
      "            mean se_mean     sd   2.5%    25%    50%    75%  97.5%  n_eff   Rhat\n",
      "beta[1,1]   2.82    2.24  23.71 -43.12 -12.15   3.17  18.87   49.7    112    1.0\n",
      "beta[2,1]   2.11    1.22  11.63 -20.96  -6.14    2.6  10.08  26.04     90   1.01\n",
      "beta[3,1]   3.57    3.69  36.97 -67.09 -22.09    2.3  29.59  74.37    100   1.01\n",
      "beta[4,1]   4.94    2.69  40.42 -73.66 -23.55   6.52  33.46  85.71    225   1.01\n",
      "beta[5,1]   2.88    2.45  27.87 -53.37 -14.25   3.26  21.03  55.96    129    1.0\n",
      "beta[1,2]  -1.16    2.79   26.8 -53.92 -18.44  -0.51  17.19  49.52     92   1.03\n",
      "beta[2,2]  -0.48    1.32  12.67 -24.57  -9.23  -0.01   8.45  24.45     92   1.04\n",
      "beta[3,2]   2.29    3.62  37.66  -68.8 -23.44   3.18  25.83   78.3    108   1.03\n",
      "beta[4,2]   3.03    2.78  38.84 -70.56  -23.8   3.15  30.57   78.5    195    1.0\n",
      "beta[5,2]  -0.39    3.19  31.33 -64.08 -20.92  -0.06  20.14  58.95     96   1.03\n",
      "beta[1,3]    2.9    2.83  25.42 -50.69 -13.13   5.05  20.08  49.46     81   1.03\n",
      "beta[2,3]   0.84     1.3  11.54 -25.37  -5.92   1.81   8.59  21.79     79   1.02\n",
      "beta[3,3]  -5.33    3.41  35.18 -71.19 -29.22  -6.44  18.95  69.27    106    1.0\n",
      "beta[4,3]  -1.72    2.98  42.13 -86.17 -32.04  -0.71   26.7  80.02    200   1.02\n",
      "beta[5,3]   3.45    3.23   30.4  -60.1 -15.47    4.6  24.52  61.27     89   1.03\n",
      "lp__      -197.0    0.15   2.62 -202.7 -198.7 -196.8 -195.1 -192.7    287   1.01\n",
      "\n",
      "Samples were drawn using NUTS at Tue May 11 23:48:35 2021.\n",
      "For each parameter, n_eff is a crude measure of effective sample size,\n",
      "and Rhat is the potential scale reduction factor on split chains (at \n",
      "convergence, Rhat=1).\n"
     ]
    }
   ],
   "source": [
    "print(fit)"
   ]
  },
  {
   "cell_type": "markdown",
   "metadata": {},
   "source": [
    "# Plot of the Posterior Distribution of the paramaters ($\\beta$)"
   ]
  },
  {
   "cell_type": "code",
   "execution_count": 21,
   "metadata": {},
   "outputs": [
    {
     "name": "stderr",
     "output_type": "stream",
     "text": [
      "WARNING:pystan:Deprecation warning. PyStan plotting deprecated, use ArviZ library (Python 3.5+). `pip install arviz`; `arviz.plot_trace(fit)`)\n"
     ]
    },
    {
     "data": {
      "image/png": "[encoded data removed]",
      "text/plain": [
       "<Figure size 432x288 with 2 Axes>"
      ]
     },
     "execution_count": 21,
     "metadata": {},
     "output_type": "execute_result"
    },
    {
     "data": {
      "image/png": "[encoded data removed]",
      "text/plain": [
       "<Figure size 432x288 with 2 Axes>"
      ]
     },
     "metadata": {
      "needs_background": "light"
     },
     "output_type": "display_data"
    }
   ],
   "source": [
    "fit.plot()"
   ]
  },
  {
   "cell_type": "code",
   "execution_count": 11,
   "metadata": {},
   "outputs": [
    {
     "data": {
      "text/plain": [
       "pystan.model.StanModel"
      ]
     },
     "execution_count": 11,
     "metadata": {},
     "output_type": "execute_result"
    }
   ],
   "source": [
    "type(sm)"
   ]
  }
 ],
 "metadata": {
  "kernelspec": {
   "display_name": "Python 3",
   "language": "python",
   "name": "python3"
  },
  "language_info": {
   "codemirror_mode": {
    "name": "ipython",
    "version": 3
   },
   "file_extension": ".py",
   "mimetype": "text/x-python",
   "name": "python",
   "nbconvert_exporter": "python",
   "pygments_lexer": "ipython3",
   "version": "3.8.5"
  }
 },
 "nbformat": 4,
 "nbformat_minor": 4
}
