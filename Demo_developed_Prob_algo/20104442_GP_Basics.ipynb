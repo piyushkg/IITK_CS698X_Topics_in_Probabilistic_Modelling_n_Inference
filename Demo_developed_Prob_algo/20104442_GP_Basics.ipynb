{
 "cells": [
  {
   "cell_type": "code",
   "execution_count": 1,
   "metadata": {},
   "outputs": [],
   "source": [
    "import numpy as np\n",
    "import matplotlib.pyplot as plt"
   ]
  },
  {
   "cell_type": "markdown",
   "metadata": {},
   "source": [
    "# Gaussian Processes (Noiseless setting)\n",
    "Discriminative Models (usually linear or generalized linear model) are limited in terms of performance (e.g. unable  arn non linear patterns). In order to learn non linear functions, Gussian processes replaces $w^T \\mathbf{x}$ by $f(\\mathbf{x})$ which is a non linear function of $\\mathbf{x}$. Hence, in GP the goal is to learn $f(\\mathbf{x})$ instead of the weight vector $w$ in a bayesian framework. Gaussian Processes is essentially a Bayesian approach to kernel based non linear learning. GP is defined as distribution over functions and is denoted as:\n",
    "$$GP(\\mu(.), \\kappa(.,.)) \\equiv \\mathcal{N}(\\mu(.), \\kappa(.,.))$$\n",
    "Every sample from the distribution $GP(\\mu, \\kappa)$ will give a random function $f$ where $f$ is an inf. dim. vector of function values at different inputs ($\\mathbf{x}$) i.e. $f = [f(\\mathbf{x}_1), f(\\mathbf{x}_2), \\dots, f(\\mathbf{x}_N)]$. Here, since no noise is added to $f(\\mathbf{x}_n)$, it is called Noiseless setting.\n",
    "\n",
    "GPs are defined in function space (rather than weight space). Assuming we know,  $f = [f(\\mathbf{x}_1), f(\\mathbf{x}_2), \\dots, f(\\mathbf{x}_N)]^T$, the joint distribution can be defined as\n",
    "\n",
    "$$p(f) = \\mathcal{N}(\\mu,\\mathbf{K})$$\n",
    "\n",
    "where $\\mu = [\\mu(\\mathbf{x}_1), \\mu(\\mathbf{x}_2), \\dots, \\mu(\\mathbf{x}_N)]^T$ and\n",
    "\n",
    "$\\mathbf{K}$ = \\begin{bmatrix} \n",
    "    \\kappa(x_1, x_1) & \\kappa(x_1, x_2) & \\dots & \\kappa(x_1, x_N)\\\\\n",
    "    \\kappa(x_2, x_1) & \\kappa(x_2, x_2) & \\dots & \\kappa(x_2, x_N)\\\\\n",
    "    \\vdots & \\vdots & \\ddots &\\\\\n",
    "    \\kappa(x_N, x_1) & \\kappa(x_N, x_2) & \\dots & \\kappa(x_N, x_N)\n",
    "    \\end{bmatrix}\n",
    " \n",
    "Furthermore, when we assume $\\mu = [0, 0, \\dots, 0]^T$, We get,\n",
    "$$p(f) = \\mathcal{N}(\\mathbf{0},\\mathbf{K})$$\n",
    "In order to predict $f(x_*)$, we gaussian property and derive,\n",
    "\n",
    "$$p\\left(\\begin{bmatrix} \n",
    "    f \\\\ f_* \\end{bmatrix}\\right) = \\mathcal{N}\\left(\\begin{bmatrix} \n",
    "    0 \\\\ 0 \\end{bmatrix},\\begin{bmatrix} \n",
    "    \\mathbf{K} & \\mathbf{k}_* \\\\ \\mathbf{k}_*^T & \\kappa(x_*, x_*) \\end{bmatrix}\\right)$$\n",
    " where $\\mathbf{k}_* = [\\kappa(x_1, x_*), \\kappa(x_2, x_*), \\dots, \\kappa(x_N, x_*)]^T$.\n",
    " \n",
    " Using the conditional property of Gaussian Distribution we can write,\n",
    " \n",
    " $$p(f_*|f) = \\mathcal{N}(\\mathbf{k}_*^T \\mathbf{K}^{-1}f ,\\kappa(x_*, x_*) - \\mathbf{k}_*^T \\mathbf{K}^{-1}\\mathbf{k}_*) $$\n",
    " \n",
    "__Implementation:__ The data is generated using a sinusoid function. In the range between \"lowrange\" and \"uprange\", a few points are randomly selected, which denotes the data. Using GP, the function value is predicted along with its uncertainity (using the formulas above). These are further plotted where blue curve represents mean prediction and the red are represents corresponding uncertainity."
   ]
  },
  {
   "cell_type": "markdown",
   "metadata": {},
   "source": [
    "# Custom Functions"
   ]
  },
  {
   "cell_type": "code",
   "execution_count": 99,
   "metadata": {},
   "outputs": [],
   "source": [
    "def createData(N,lowrange,uprange):\n",
    "    '''\n",
    "    Creating Data points X and corresponding outputs Y using SINUSOID FUNCTION\n",
    "    Input:\n",
    "        N: No. of data points to be generated \n",
    "        \n",
    "    Output:\n",
    "        X: np vector of shape (N,)\n",
    "        Y: np vector of shape (N,)\n",
    "    '''\n",
    "    s = np.random.uniform(lowrange,uprange,N)\n",
    "    X = np.sort(s, axis=None)\n",
    "    #Y = np.sin(X * np.pi / 180.)\n",
    "    Y = np.sin(X)\n",
    "    return X, Y\n",
    "\n",
    "def KernelSExp(sig, l, x1, x2):\n",
    "    '''\n",
    "    Generate Squared Exponential Kernel for inputs x1 and x2\n",
    "    Input:\n",
    "        sig: scalar\n",
    "        l: scalar\n",
    "        x1: scalar data point 1\n",
    "        x2: scalar data point 2\n",
    "    Output:\n",
    "        kse: scalar output of square exponential kernel for x1 and x2\n",
    "    '''\n",
    "    kse = (sig**2) * np.exp(-((x1-x2)**2)/(2*l*l))\n",
    "    return kse\n",
    "\n",
    "def createKernelMatrix(X,KernelValFunc, sig, l):\n",
    "    '''\n",
    "    Creating Kernel Matrix for function data points X a using  KernelFunc\n",
    "    Input:\n",
    "        X: Data points -  np vector of shape (N,)\n",
    "        KernelFunc: The function used to compute kernels\n",
    "        \n",
    "    Output:\n",
    "        K: np matrix of shape (N,N)\n",
    "    '''\n",
    "    N = len(X)\n",
    "    K  = np.zeros((N,N))\n",
    "    for i in range(N):\n",
    "        for j in range (N):\n",
    "            K[i,j] = KernelValFunc(sig, l, X[i], X[j])\n",
    "    return K\n",
    "\n",
    "def GeneratePriorGPsamples(NoSamples, X, KernelFunc, sig, l):\n",
    "    '''\n",
    "    Sampling from GP Prior with Zero Mean and Kernel Matrix as Covariance\n",
    "    Input:\n",
    "        NoSample = Number of Samples to be derieved from GP Prior\n",
    "        X: No. of data points to be generated -  np vector of shape (N,)\n",
    "        KernelFunc: The function used to compute kernels\n",
    "    Output:\n",
    "        Ymat: np matrix of shape (NoSample, N)\n",
    "    '''\n",
    "    N = len(X)\n",
    "    Mean = np.zeros(N)\n",
    "    K  = createKernelMatrix(X,KernelFunc, sig, l)\n",
    "    Y = np.random.multivariate_normal(Mean, K, NoSamples)\n",
    "    return Y\n",
    "\n",
    "def ComputeGP_PPDmeancov(x_new, X, Y, KernelFunc, KernelValFunc, sig, l):\n",
    "    '''\n",
    "    Computing PPD mean for GP PPD\n",
    "    Input:\n",
    "        x_new = new data point - scalar\n",
    "        X: Data points -  np vector of shape (N, )  \n",
    "        Y: Output at Data points -  np vector of shape (N, )\n",
    "        KernelFunc: The function used to compute kernel matrix\n",
    "        KernelValFunc: The function used to compute kernel value for particular data pair\n",
    "    Output:\n",
    "        GP_PPD_Mean: scalar\n",
    "        GP_PPD_Cov: scalar\n",
    "    '''\n",
    "    N  = len(X)\n",
    "    K  = createKernelMatrix(X,KernelValFunc, sig, l)\n",
    "    kernelval_new = KernelValFunc(sig, l, x_new, x_new)\n",
    "    k_new = np.zeros(N)\n",
    "    for i in range(N):\n",
    "        k_new[i] = KernelValFunc(sig, l, X[i], x_new)\n",
    "    \n",
    "    K_inv = np.linalg.inv(K)\n",
    "    GP_PPD_Mean = k_new@K_inv@Y\n",
    "    GP_PPD_Cov = kernelval_new - k_new@K_inv@k_new\n",
    "    return GP_PPD_Mean, GP_PPD_Cov"
   ]
  },
  {
   "cell_type": "code",
   "execution_count": 162,
   "metadata": {},
   "outputs": [],
   "source": [
    "lowrange = -5\n",
    "uprange = 5\n",
    "N = 5\n",
    "sig = 2\n",
    "l = 2\n",
    "NoSamples = 50\n",
    "X, Y = createData(N,lowrange,uprange)"
   ]
  },
  {
   "cell_type": "code",
   "execution_count": 163,
   "metadata": {},
   "outputs": [
    {
     "data": {
      "image/png": "[encoded data removed]",
      "text/plain": [
       "<Figure size 432x288 with 1 Axes>"
      ]
     },
     "metadata": {
      "needs_background": "light"
     },
     "output_type": "display_data"
    }
   ],
   "source": [
    "XX = np.linspace(lowrange, uprange, num=NoSamples)\n",
    "PPD_MeanCov = np.zeros((NoSamples,2))\n",
    "for i in range(len(XX)):\n",
    "    PPD_MeanCov[i,0], PPD_MeanCov[i,1]  = ComputeGP_PPDmeancov(XX[i], X, Y, createKernelMatrix, KernelSExp, sig, l)\n",
    "    \n",
    "\n",
    "plot1 = plt.figure(1)\n",
    "plt.scatter(X,Y)\n",
    "plt.plot(XX,PPD_MeanCov[:,0])\n",
    "a1 = PPD_MeanCov[:,0] - 2*PPD_MeanCov[:,1]\n",
    "a2 = PPD_MeanCov[:,0] + 2*PPD_MeanCov[:,1]\n",
    "plt.fill_between(XX, a1, a2, facecolor='r', alpha=0.2)\n",
    "plt.xlabel('x-data', fontsize=15)\n",
    "plt.ylabel('y-data', fontsize=15)\n",
    "plt.suptitle('GP Basics', fontsize=20)\n",
    "plt.grid(True, color = \"grey\", linewidth = \"1\", linestyle = \"-.\")\n",
    "plt.show()"
   ]
  }
 ],
 "metadata": {
  "kernelspec": {
   "display_name": "Python 3",
   "language": "python",
   "name": "python3"
  },
  "language_info": {
   "codemirror_mode": {
    "name": "ipython",
    "version": 3
   },
   "file_extension": ".py",
   "mimetype": "text/x-python",
   "name": "python",
   "nbconvert_exporter": "python",
   "pygments_lexer": "ipython3",
   "version": "3.8.5"
  }
 },
 "nbformat": 4,
 "nbformat_minor": 4
}
