{
 "cells": [
  {
   "cell_type": "code",
   "execution_count": 1,
   "metadata": {},
   "outputs": [],
   "source": [
    "import numpy as np\n",
    "import matplotlib.pyplot as plt"
   ]
  },
  {
   "cell_type": "markdown",
   "metadata": {},
   "source": [
    "# Gaussian Processes (Noisy setting)\n",
    "## (Regression - Gaussian Likelihood)\n",
    "In a noisy setting, actual response is a sum of function output and noise ($y_n = f(\\mathbf{x}_n) + \\epsilon_n$). Consider a regression model where we assume that each response is modelled by a Gaussian Likelihood $p(y_n|f_n,\\beta^{-1}) = \\mathcal{N}(f_n,\\beta^{-1})$. We can write the total likelihood as:\n",
    "$$p(\\mathbf{y}|\\mathbf{f},\\beta^{-1}\\mathbf{I}) = \\mathcal{N}(\\mathbf{f},\\beta^{-1}\\mathbf{I})$$\n",
    "\n",
    "Assuming a zero mean Gaussian Prior as:\n",
    "$$p(\\mathbf{f}) = \\mathcal{N}(\\mathbf{0},\\mathbf{K})$$\n",
    "Snce both likelihood and prior are gaussian here, the marginal likelihood of $y$ is also gaussian:\n",
    "$$p(\\mathbf{y}) = \\mathcal{N}(\\mathbf{0},\\mathbf{K} + \\beta^{-1} \\mathbf{I}_N ) = \\mathcal{N}(\\mathbf{0}, \\mathbf{C}_N )$$\n",
    "where \n",
    "$\\mathbf{K}$ = \\begin{bmatrix} \n",
    "    \\kappa(x_1, x_1) & \\kappa(x_1, x_2) & \\dots & \\kappa(x_1, x_N)\\\\\n",
    "    \\kappa(x_2, x_1) & \\kappa(x_2, x_2) & \\dots & \\kappa(x_2, x_N)\\\\\n",
    "    \\vdots & \\vdots & \\ddots &\\\\\n",
    "    \\kappa(x_N, x_1) & \\kappa(x_N, x_2) & \\dots & \\kappa(x_N, x_N)\n",
    "    \\end{bmatrix}\n",
    "    \n",
    "    \n",
    "The Joint distribution of the training $\\mathbf{y}$ and the test response $y_*$ is also gaussian:\n",
    "\n",
    "$$p\\left(\\begin{bmatrix} \n",
    "    \\mathbf{y} \\\\ y_* \\end{bmatrix}\\right) = \\mathcal{N}\\left(\\begin{bmatrix} \n",
    "    \\mathbf{0} \\\\ 0 \\end{bmatrix},\\begin{bmatrix} \n",
    "    \\mathbf{C}_N & \\mathbf{k}_* \\\\ \\mathbf{k}_*^T & \\kappa(x_*, x_*) + \\beta^{-1}\\end{bmatrix}\\right)$$\n",
    "    \n",
    " where $\\mathbf{k}_* = [\\kappa(x_1, x_*), \\kappa(x_2, x_*), \\dots, \\kappa(x_N, x_*)]^T$.\n",
    " \n",
    " Using the gaussian property and the above results we can write,\n",
    " \n",
    " $$p(y_*|\\mathbf{y}) = \\mathcal{N}(\\mathbf{k}_*^T \\mathbf{C}_N^{-1}\\mathbf{y} ,\\kappa(x_*, x_*) - \\mathbf{k}_*^T \\mathbf{C}_N^{-1}\\mathbf{k}_* + \\beta^{-1}) $$\n",
    " \n",
    " __Implementation:__ The data is generated using a sinusoid function. In the range between \"lowrange\" and \"uprange\", a few points are randomly selected, which denotes the data. Using GP, the function value is predicted along with its uncertainity (using the formulas above). These are further plotted where blue curve represents mean prediction and the red are represents corresponding uncertainity. Noise($\\beta$) can be tuned to see the effect of changing noise on the plot"
   ]
  },
  {
   "cell_type": "markdown",
   "metadata": {},
   "source": [
    "# Custom Function"
   ]
  },
  {
   "cell_type": "code",
   "execution_count": 20,
   "metadata": {},
   "outputs": [],
   "source": [
    "def createData(N,lowrange,uprange, beta):\n",
    "    '''\n",
    "    Creating Data points X and corresponding outputs Y using SINUSOID FUNCTION\n",
    "    Input:\n",
    "        N: No. of data points to be generated \n",
    "        \n",
    "    Output:\n",
    "        X: np vector of shape (N,)\n",
    "        Y: np vector of shape (N,)\n",
    "    '''\n",
    "    s = np.random.uniform(lowrange,uprange,N)\n",
    "    X = np.sort(s, axis=None)\n",
    "    mu = 0\n",
    "    sigma = np.sqrt(1/beta)\n",
    "    noise = np.random.normal(mu, sigma, N)\n",
    "    Y = np.sin(X) + noise\n",
    "    return X, Y\n",
    "\n",
    "def KernelSExp(sig, l, x1, x2):\n",
    "    '''\n",
    "    Generate Squared Exponential Kernel for inputs x1 and x2\n",
    "    Input:\n",
    "        sig: scalar\n",
    "        l: scalar\n",
    "        x1: scalar data point 1\n",
    "        x2: scalar data point 2\n",
    "    Output:\n",
    "        kse: scalar output of square exponential kernel for x1 and x2\n",
    "    '''\n",
    "    kse = (sig**2) * np.exp(-((x1-x2)**2)/(2*l*l))\n",
    "    return kse\n",
    "\n",
    "def createKernelMatrix(X,KernelValFunc, sig, l):\n",
    "    '''\n",
    "    Creating Kernel Matrix for function data points X a using  KernelFunc\n",
    "    Input:\n",
    "        X: Data points -  np vector of shape (N,)\n",
    "        KernelFunc: The function used to compute kernels\n",
    "        \n",
    "    Output:\n",
    "        K: np matrix of shape (N,N)\n",
    "    '''\n",
    "    N = len(X)\n",
    "    K  = np.zeros((N,N))\n",
    "    for i in range(N):\n",
    "        for j in range (N):\n",
    "            K[i,j] = KernelValFunc(sig, l, X[i], X[j])\n",
    "    return K\n",
    "\n",
    "def createCMatrix(X,KernelValFunc, sig, l, beta):\n",
    "    '''\n",
    "    Creating Kernel Matrix for function data points X a using  KernelFunc\n",
    "    Input:\n",
    "        X: Data points -  np vector of shape (N,)\n",
    "        KernelFunc: The function used to compute kernels\n",
    "        \n",
    "    Output:\n",
    "        K: np matrix of shape (N,N)\n",
    "    '''\n",
    "    N = len(X)\n",
    "    K  = createKernelMatrix(X,KernelValFunc, sig, l)\n",
    "    eye = np.identity(N, dtype = float)\n",
    "    C = K + (1/beta) * eye\n",
    "    return C\n",
    "\n",
    "def ComputeGP_PPDmeancov(x_new, X, Y, KernelFunc, KernelValFunc, sig, l, beta):\n",
    "    '''\n",
    "    Computing PPD mean for GP PPD\n",
    "    Input:\n",
    "        x_new = new data point - scalar\n",
    "        X: Data points -  np vector of shape (N, )  \n",
    "        Y: Output at Data points -  np vector of shape (N, )\n",
    "        KernelFunc: The function used to compute kernel matrix\n",
    "        KernelValFunc: The function used to compute kernel value for particular data pair\n",
    "    Output:\n",
    "        GP_PPD_Mean: scalar\n",
    "        GP_PPD_Cov: scalar\n",
    "    '''\n",
    "    N  = len(X)\n",
    "    C  = createCMatrix(X,KernelValFunc, sig, l, beta)\n",
    "    kernelval_new = KernelValFunc(sig, l, x_new, x_new)\n",
    "    k_new = np.zeros(N)\n",
    "    for i in range(N):\n",
    "        k_new[i] = KernelValFunc(sig, l, X[i], x_new)\n",
    "    \n",
    "    C_inv = np.linalg.inv(C)\n",
    "    GP_PPD_Mean = k_new@C_inv@Y\n",
    "    GP_PPD_Cov = kernelval_new - k_new@C_inv@k_new + (1/beta)\n",
    "    return GP_PPD_Mean, GP_PPD_Cov"
   ]
  },
  {
   "cell_type": "markdown",
   "metadata": {},
   "source": [
    "# GP in Noisy Setting"
   ]
  },
  {
   "cell_type": "code",
   "execution_count": 26,
   "metadata": {},
   "outputs": [],
   "source": [
    "lowrange = -5\n",
    "uprange = 5\n",
    "N = 5\n",
    "sig = 2\n",
    "l = 2\n",
    "NoSamples = 50\n",
    "beta = 10\n",
    "X, Y = createData(N,lowrange,uprange,beta)"
   ]
  },
  {
   "cell_type": "code",
   "execution_count": 27,
   "metadata": {},
   "outputs": [
    {
     "data": {
      "image/png": "[encoded data removed]",
      "text/plain": [
       "<Figure size 432x288 with 1 Axes>"
      ]
     },
     "metadata": {
      "needs_background": "light"
     },
     "output_type": "display_data"
    }
   ],
   "source": [
    "XX = np.linspace(lowrange, uprange, num=NoSamples)\n",
    "PPD_MeanCov = np.zeros((NoSamples,2))\n",
    "for i in range(len(XX)):\n",
    "    PPD_MeanCov[i,0], PPD_MeanCov[i,1]  = ComputeGP_PPDmeancov(XX[i], X, Y, createKernelMatrix, KernelSExp, sig, l,beta)\n",
    "    \n",
    "\n",
    "plot1 = plt.figure(1)\n",
    "plt.scatter(X,Y)\n",
    "plt.plot(XX,PPD_MeanCov[:,0])\n",
    "a1 = PPD_MeanCov[:,0] - 2*PPD_MeanCov[:,1]\n",
    "a2 = PPD_MeanCov[:,0] + 2*PPD_MeanCov[:,1]\n",
    "plt.fill_between(XX, a1, a2, facecolor='r', alpha=0.2)\n",
    "plt.xlabel('x-data', fontsize=15)\n",
    "plt.ylabel('y-data', fontsize=15)\n",
    "plt.suptitle('GP in Noisy setting', fontsize=20)\n",
    "plt.grid(True, color = \"grey\", linewidth = \"1\", linestyle = \"-.\")\n",
    "plt.show()"
   ]
  }
 ],
 "metadata": {
  "kernelspec": {
   "display_name": "Python 3",
   "language": "python",
   "name": "python3"
  },
  "language_info": {
   "codemirror_mode": {
    "name": "ipython",
    "version": 3
   },
   "file_extension": ".py",
   "mimetype": "text/x-python",
   "name": "python",
   "nbconvert_exporter": "python",
   "pygments_lexer": "ipython3",
   "version": "3.8.5"
  }
 },
 "nbformat": 4,
 "nbformat_minor": 4
}
